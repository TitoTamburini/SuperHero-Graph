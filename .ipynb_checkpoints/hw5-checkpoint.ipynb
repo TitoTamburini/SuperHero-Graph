{
 "cells": [
  {
   "cell_type": "markdown",
   "metadata": {},
   "source": [
    "# HOMEWORK 5"
   ]
  },
  {
   "cell_type": "code",
   "execution_count": 1,
   "metadata": {},
   "outputs": [],
   "source": [
    "import pandas as pd\n",
    "import networkx as nx\n",
    "import matplotlib.pyplot as plt\n",
    "import numpy as np\n",
    "from IPython.display import display, Markdown\n",
    "import collections"
   ]
  },
  {
   "cell_type": "markdown",
   "metadata": {},
   "source": [
    "## 1. Data\n"
   ]
  },
  {
   "cell_type": "code",
   "execution_count": 2,
   "metadata": {},
   "outputs": [
    {
     "ename": "FileNotFoundError",
     "evalue": "[Errno 2] No such file or directory: 'hero-network.csv'",
     "output_type": "error",
     "traceback": [
      "\u001b[1;31m---------------------------------------------------------------------------\u001b[0m",
      "\u001b[1;31mFileNotFoundError\u001b[0m                         Traceback (most recent call last)",
      "Input \u001b[1;32mIn [2]\u001b[0m, in \u001b[0;36m<cell line: 1>\u001b[1;34m()\u001b[0m\n\u001b[1;32m----> 1\u001b[0m hero_net  \u001b[38;5;241m=\u001b[39m \u001b[43mpd\u001b[49m\u001b[38;5;241;43m.\u001b[39;49m\u001b[43mread_csv\u001b[49m\u001b[43m(\u001b[49m\u001b[38;5;124;43m'\u001b[39;49m\u001b[38;5;124;43mhero-network.csv\u001b[39;49m\u001b[38;5;124;43m'\u001b[39;49m\u001b[43m)\u001b[49m\n",
      "File \u001b[1;32mD:\\anaconda\\lib\\site-packages\\pandas\\util\\_decorators.py:311\u001b[0m, in \u001b[0;36mdeprecate_nonkeyword_arguments.<locals>.decorate.<locals>.wrapper\u001b[1;34m(*args, **kwargs)\u001b[0m\n\u001b[0;32m    305\u001b[0m \u001b[38;5;28;01mif\u001b[39;00m \u001b[38;5;28mlen\u001b[39m(args) \u001b[38;5;241m>\u001b[39m num_allow_args:\n\u001b[0;32m    306\u001b[0m     warnings\u001b[38;5;241m.\u001b[39mwarn(\n\u001b[0;32m    307\u001b[0m         msg\u001b[38;5;241m.\u001b[39mformat(arguments\u001b[38;5;241m=\u001b[39marguments),\n\u001b[0;32m    308\u001b[0m         \u001b[38;5;167;01mFutureWarning\u001b[39;00m,\n\u001b[0;32m    309\u001b[0m         stacklevel\u001b[38;5;241m=\u001b[39mstacklevel,\n\u001b[0;32m    310\u001b[0m     )\n\u001b[1;32m--> 311\u001b[0m \u001b[38;5;28;01mreturn\u001b[39;00m func(\u001b[38;5;241m*\u001b[39margs, \u001b[38;5;241m*\u001b[39m\u001b[38;5;241m*\u001b[39mkwargs)\n",
      "File \u001b[1;32mD:\\anaconda\\lib\\site-packages\\pandas\\io\\parsers\\readers.py:680\u001b[0m, in \u001b[0;36mread_csv\u001b[1;34m(filepath_or_buffer, sep, delimiter, header, names, index_col, usecols, squeeze, prefix, mangle_dupe_cols, dtype, engine, converters, true_values, false_values, skipinitialspace, skiprows, skipfooter, nrows, na_values, keep_default_na, na_filter, verbose, skip_blank_lines, parse_dates, infer_datetime_format, keep_date_col, date_parser, dayfirst, cache_dates, iterator, chunksize, compression, thousands, decimal, lineterminator, quotechar, quoting, doublequote, escapechar, comment, encoding, encoding_errors, dialect, error_bad_lines, warn_bad_lines, on_bad_lines, delim_whitespace, low_memory, memory_map, float_precision, storage_options)\u001b[0m\n\u001b[0;32m    665\u001b[0m kwds_defaults \u001b[38;5;241m=\u001b[39m _refine_defaults_read(\n\u001b[0;32m    666\u001b[0m     dialect,\n\u001b[0;32m    667\u001b[0m     delimiter,\n\u001b[1;32m   (...)\u001b[0m\n\u001b[0;32m    676\u001b[0m     defaults\u001b[38;5;241m=\u001b[39m{\u001b[38;5;124m\"\u001b[39m\u001b[38;5;124mdelimiter\u001b[39m\u001b[38;5;124m\"\u001b[39m: \u001b[38;5;124m\"\u001b[39m\u001b[38;5;124m,\u001b[39m\u001b[38;5;124m\"\u001b[39m},\n\u001b[0;32m    677\u001b[0m )\n\u001b[0;32m    678\u001b[0m kwds\u001b[38;5;241m.\u001b[39mupdate(kwds_defaults)\n\u001b[1;32m--> 680\u001b[0m \u001b[38;5;28;01mreturn\u001b[39;00m \u001b[43m_read\u001b[49m\u001b[43m(\u001b[49m\u001b[43mfilepath_or_buffer\u001b[49m\u001b[43m,\u001b[49m\u001b[43m \u001b[49m\u001b[43mkwds\u001b[49m\u001b[43m)\u001b[49m\n",
      "File \u001b[1;32mD:\\anaconda\\lib\\site-packages\\pandas\\io\\parsers\\readers.py:575\u001b[0m, in \u001b[0;36m_read\u001b[1;34m(filepath_or_buffer, kwds)\u001b[0m\n\u001b[0;32m    572\u001b[0m _validate_names(kwds\u001b[38;5;241m.\u001b[39mget(\u001b[38;5;124m\"\u001b[39m\u001b[38;5;124mnames\u001b[39m\u001b[38;5;124m\"\u001b[39m, \u001b[38;5;28;01mNone\u001b[39;00m))\n\u001b[0;32m    574\u001b[0m \u001b[38;5;66;03m# Create the parser.\u001b[39;00m\n\u001b[1;32m--> 575\u001b[0m parser \u001b[38;5;241m=\u001b[39m TextFileReader(filepath_or_buffer, \u001b[38;5;241m*\u001b[39m\u001b[38;5;241m*\u001b[39mkwds)\n\u001b[0;32m    577\u001b[0m \u001b[38;5;28;01mif\u001b[39;00m chunksize \u001b[38;5;129;01mor\u001b[39;00m iterator:\n\u001b[0;32m    578\u001b[0m     \u001b[38;5;28;01mreturn\u001b[39;00m parser\n",
      "File \u001b[1;32mD:\\anaconda\\lib\\site-packages\\pandas\\io\\parsers\\readers.py:933\u001b[0m, in \u001b[0;36mTextFileReader.__init__\u001b[1;34m(self, f, engine, **kwds)\u001b[0m\n\u001b[0;32m    930\u001b[0m     \u001b[38;5;28mself\u001b[39m\u001b[38;5;241m.\u001b[39moptions[\u001b[38;5;124m\"\u001b[39m\u001b[38;5;124mhas_index_names\u001b[39m\u001b[38;5;124m\"\u001b[39m] \u001b[38;5;241m=\u001b[39m kwds[\u001b[38;5;124m\"\u001b[39m\u001b[38;5;124mhas_index_names\u001b[39m\u001b[38;5;124m\"\u001b[39m]\n\u001b[0;32m    932\u001b[0m \u001b[38;5;28mself\u001b[39m\u001b[38;5;241m.\u001b[39mhandles: IOHandles \u001b[38;5;241m|\u001b[39m \u001b[38;5;28;01mNone\u001b[39;00m \u001b[38;5;241m=\u001b[39m \u001b[38;5;28;01mNone\u001b[39;00m\n\u001b[1;32m--> 933\u001b[0m \u001b[38;5;28mself\u001b[39m\u001b[38;5;241m.\u001b[39m_engine \u001b[38;5;241m=\u001b[39m \u001b[38;5;28;43mself\u001b[39;49m\u001b[38;5;241;43m.\u001b[39;49m\u001b[43m_make_engine\u001b[49m\u001b[43m(\u001b[49m\u001b[43mf\u001b[49m\u001b[43m,\u001b[49m\u001b[43m \u001b[49m\u001b[38;5;28;43mself\u001b[39;49m\u001b[38;5;241;43m.\u001b[39;49m\u001b[43mengine\u001b[49m\u001b[43m)\u001b[49m\n",
      "File \u001b[1;32mD:\\anaconda\\lib\\site-packages\\pandas\\io\\parsers\\readers.py:1217\u001b[0m, in \u001b[0;36mTextFileReader._make_engine\u001b[1;34m(self, f, engine)\u001b[0m\n\u001b[0;32m   1213\u001b[0m     mode \u001b[38;5;241m=\u001b[39m \u001b[38;5;124m\"\u001b[39m\u001b[38;5;124mrb\u001b[39m\u001b[38;5;124m\"\u001b[39m\n\u001b[0;32m   1214\u001b[0m \u001b[38;5;66;03m# error: No overload variant of \"get_handle\" matches argument types\u001b[39;00m\n\u001b[0;32m   1215\u001b[0m \u001b[38;5;66;03m# \"Union[str, PathLike[str], ReadCsvBuffer[bytes], ReadCsvBuffer[str]]\"\u001b[39;00m\n\u001b[0;32m   1216\u001b[0m \u001b[38;5;66;03m# , \"str\", \"bool\", \"Any\", \"Any\", \"Any\", \"Any\", \"Any\"\u001b[39;00m\n\u001b[1;32m-> 1217\u001b[0m \u001b[38;5;28mself\u001b[39m\u001b[38;5;241m.\u001b[39mhandles \u001b[38;5;241m=\u001b[39m \u001b[43mget_handle\u001b[49m\u001b[43m(\u001b[49m\u001b[43m  \u001b[49m\u001b[38;5;66;43;03m# type: ignore[call-overload]\u001b[39;49;00m\n\u001b[0;32m   1218\u001b[0m \u001b[43m    \u001b[49m\u001b[43mf\u001b[49m\u001b[43m,\u001b[49m\n\u001b[0;32m   1219\u001b[0m \u001b[43m    \u001b[49m\u001b[43mmode\u001b[49m\u001b[43m,\u001b[49m\n\u001b[0;32m   1220\u001b[0m \u001b[43m    \u001b[49m\u001b[43mencoding\u001b[49m\u001b[38;5;241;43m=\u001b[39;49m\u001b[38;5;28;43mself\u001b[39;49m\u001b[38;5;241;43m.\u001b[39;49m\u001b[43moptions\u001b[49m\u001b[38;5;241;43m.\u001b[39;49m\u001b[43mget\u001b[49m\u001b[43m(\u001b[49m\u001b[38;5;124;43m\"\u001b[39;49m\u001b[38;5;124;43mencoding\u001b[39;49m\u001b[38;5;124;43m\"\u001b[39;49m\u001b[43m,\u001b[49m\u001b[43m \u001b[49m\u001b[38;5;28;43;01mNone\u001b[39;49;00m\u001b[43m)\u001b[49m\u001b[43m,\u001b[49m\n\u001b[0;32m   1221\u001b[0m \u001b[43m    \u001b[49m\u001b[43mcompression\u001b[49m\u001b[38;5;241;43m=\u001b[39;49m\u001b[38;5;28;43mself\u001b[39;49m\u001b[38;5;241;43m.\u001b[39;49m\u001b[43moptions\u001b[49m\u001b[38;5;241;43m.\u001b[39;49m\u001b[43mget\u001b[49m\u001b[43m(\u001b[49m\u001b[38;5;124;43m\"\u001b[39;49m\u001b[38;5;124;43mcompression\u001b[39;49m\u001b[38;5;124;43m\"\u001b[39;49m\u001b[43m,\u001b[49m\u001b[43m \u001b[49m\u001b[38;5;28;43;01mNone\u001b[39;49;00m\u001b[43m)\u001b[49m\u001b[43m,\u001b[49m\n\u001b[0;32m   1222\u001b[0m \u001b[43m    \u001b[49m\u001b[43mmemory_map\u001b[49m\u001b[38;5;241;43m=\u001b[39;49m\u001b[38;5;28;43mself\u001b[39;49m\u001b[38;5;241;43m.\u001b[39;49m\u001b[43moptions\u001b[49m\u001b[38;5;241;43m.\u001b[39;49m\u001b[43mget\u001b[49m\u001b[43m(\u001b[49m\u001b[38;5;124;43m\"\u001b[39;49m\u001b[38;5;124;43mmemory_map\u001b[39;49m\u001b[38;5;124;43m\"\u001b[39;49m\u001b[43m,\u001b[49m\u001b[43m \u001b[49m\u001b[38;5;28;43;01mFalse\u001b[39;49;00m\u001b[43m)\u001b[49m\u001b[43m,\u001b[49m\n\u001b[0;32m   1223\u001b[0m \u001b[43m    \u001b[49m\u001b[43mis_text\u001b[49m\u001b[38;5;241;43m=\u001b[39;49m\u001b[43mis_text\u001b[49m\u001b[43m,\u001b[49m\n\u001b[0;32m   1224\u001b[0m \u001b[43m    \u001b[49m\u001b[43merrors\u001b[49m\u001b[38;5;241;43m=\u001b[39;49m\u001b[38;5;28;43mself\u001b[39;49m\u001b[38;5;241;43m.\u001b[39;49m\u001b[43moptions\u001b[49m\u001b[38;5;241;43m.\u001b[39;49m\u001b[43mget\u001b[49m\u001b[43m(\u001b[49m\u001b[38;5;124;43m\"\u001b[39;49m\u001b[38;5;124;43mencoding_errors\u001b[39;49m\u001b[38;5;124;43m\"\u001b[39;49m\u001b[43m,\u001b[49m\u001b[43m \u001b[49m\u001b[38;5;124;43m\"\u001b[39;49m\u001b[38;5;124;43mstrict\u001b[39;49m\u001b[38;5;124;43m\"\u001b[39;49m\u001b[43m)\u001b[49m\u001b[43m,\u001b[49m\n\u001b[0;32m   1225\u001b[0m \u001b[43m    \u001b[49m\u001b[43mstorage_options\u001b[49m\u001b[38;5;241;43m=\u001b[39;49m\u001b[38;5;28;43mself\u001b[39;49m\u001b[38;5;241;43m.\u001b[39;49m\u001b[43moptions\u001b[49m\u001b[38;5;241;43m.\u001b[39;49m\u001b[43mget\u001b[49m\u001b[43m(\u001b[49m\u001b[38;5;124;43m\"\u001b[39;49m\u001b[38;5;124;43mstorage_options\u001b[39;49m\u001b[38;5;124;43m\"\u001b[39;49m\u001b[43m,\u001b[49m\u001b[43m \u001b[49m\u001b[38;5;28;43;01mNone\u001b[39;49;00m\u001b[43m)\u001b[49m\u001b[43m,\u001b[49m\n\u001b[0;32m   1226\u001b[0m \u001b[43m\u001b[49m\u001b[43m)\u001b[49m\n\u001b[0;32m   1227\u001b[0m \u001b[38;5;28;01massert\u001b[39;00m \u001b[38;5;28mself\u001b[39m\u001b[38;5;241m.\u001b[39mhandles \u001b[38;5;129;01mis\u001b[39;00m \u001b[38;5;129;01mnot\u001b[39;00m \u001b[38;5;28;01mNone\u001b[39;00m\n\u001b[0;32m   1228\u001b[0m f \u001b[38;5;241m=\u001b[39m \u001b[38;5;28mself\u001b[39m\u001b[38;5;241m.\u001b[39mhandles\u001b[38;5;241m.\u001b[39mhandle\n",
      "File \u001b[1;32mD:\\anaconda\\lib\\site-packages\\pandas\\io\\common.py:789\u001b[0m, in \u001b[0;36mget_handle\u001b[1;34m(path_or_buf, mode, encoding, compression, memory_map, is_text, errors, storage_options)\u001b[0m\n\u001b[0;32m    784\u001b[0m \u001b[38;5;28;01melif\u001b[39;00m \u001b[38;5;28misinstance\u001b[39m(handle, \u001b[38;5;28mstr\u001b[39m):\n\u001b[0;32m    785\u001b[0m     \u001b[38;5;66;03m# Check whether the filename is to be opened in binary mode.\u001b[39;00m\n\u001b[0;32m    786\u001b[0m     \u001b[38;5;66;03m# Binary mode does not support 'encoding' and 'newline'.\u001b[39;00m\n\u001b[0;32m    787\u001b[0m     \u001b[38;5;28;01mif\u001b[39;00m ioargs\u001b[38;5;241m.\u001b[39mencoding \u001b[38;5;129;01mand\u001b[39;00m \u001b[38;5;124m\"\u001b[39m\u001b[38;5;124mb\u001b[39m\u001b[38;5;124m\"\u001b[39m \u001b[38;5;129;01mnot\u001b[39;00m \u001b[38;5;129;01min\u001b[39;00m ioargs\u001b[38;5;241m.\u001b[39mmode:\n\u001b[0;32m    788\u001b[0m         \u001b[38;5;66;03m# Encoding\u001b[39;00m\n\u001b[1;32m--> 789\u001b[0m         handle \u001b[38;5;241m=\u001b[39m \u001b[38;5;28;43mopen\u001b[39;49m\u001b[43m(\u001b[49m\n\u001b[0;32m    790\u001b[0m \u001b[43m            \u001b[49m\u001b[43mhandle\u001b[49m\u001b[43m,\u001b[49m\n\u001b[0;32m    791\u001b[0m \u001b[43m            \u001b[49m\u001b[43mioargs\u001b[49m\u001b[38;5;241;43m.\u001b[39;49m\u001b[43mmode\u001b[49m\u001b[43m,\u001b[49m\n\u001b[0;32m    792\u001b[0m \u001b[43m            \u001b[49m\u001b[43mencoding\u001b[49m\u001b[38;5;241;43m=\u001b[39;49m\u001b[43mioargs\u001b[49m\u001b[38;5;241;43m.\u001b[39;49m\u001b[43mencoding\u001b[49m\u001b[43m,\u001b[49m\n\u001b[0;32m    793\u001b[0m \u001b[43m            \u001b[49m\u001b[43merrors\u001b[49m\u001b[38;5;241;43m=\u001b[39;49m\u001b[43merrors\u001b[49m\u001b[43m,\u001b[49m\n\u001b[0;32m    794\u001b[0m \u001b[43m            \u001b[49m\u001b[43mnewline\u001b[49m\u001b[38;5;241;43m=\u001b[39;49m\u001b[38;5;124;43m\"\u001b[39;49m\u001b[38;5;124;43m\"\u001b[39;49m\u001b[43m,\u001b[49m\n\u001b[0;32m    795\u001b[0m \u001b[43m        \u001b[49m\u001b[43m)\u001b[49m\n\u001b[0;32m    796\u001b[0m     \u001b[38;5;28;01melse\u001b[39;00m:\n\u001b[0;32m    797\u001b[0m         \u001b[38;5;66;03m# Binary mode\u001b[39;00m\n\u001b[0;32m    798\u001b[0m         handle \u001b[38;5;241m=\u001b[39m \u001b[38;5;28mopen\u001b[39m(handle, ioargs\u001b[38;5;241m.\u001b[39mmode)\n",
      "\u001b[1;31mFileNotFoundError\u001b[0m: [Errno 2] No such file or directory: 'hero-network.csv'"
     ]
    }
   ],
   "source": [
    "hero_net  = pd.read_csv('hero-network.csv')"
   ]
  },
  {
   "cell_type": "markdown",
   "metadata": {},
   "source": [
    "### 1.2 Data Preprocessing"
   ]
  },
  {
   "cell_type": "code",
   "execution_count": 84,
   "metadata": {},
   "outputs": [],
   "source": [
    "hero_net.drop(hero_net[hero_net['hero1'] == hero_net['hero2']].index,inplace=True)"
   ]
  },
  {
   "cell_type": "code",
   "execution_count": 85,
   "metadata": {},
   "outputs": [
    {
     "data": {
      "text/plain": [
       "0                LITTLE, ABNER\n",
       "1                LITTLE, ABNER\n",
       "2         BLACK PANTHER/T'CHAL\n",
       "3                LITTLE, ABNER\n",
       "4                LITTLE, ABNER\n",
       "                  ...         \n",
       "574462    COLOSSUS II/PETER RA\n",
       "574463                CALLISTO\n",
       "574464                CALLISTO\n",
       "574465                 CALIBAN\n",
       "574466    HULK/DR. ROBERT BRUC\n",
       "Length: 572235, dtype: object"
      ]
     },
     "execution_count": 85,
     "metadata": {},
     "output_type": "execute_result"
    }
   ],
   "source": [
    "hero_net.apply(lambda  row :  row['hero1'].rstrip().rstrip('/'),axis=1)"
   ]
  },
  {
   "cell_type": "code",
   "execution_count": 86,
   "metadata": {},
   "outputs": [
    {
     "data": {
      "text/plain": [
       "0               PRINCESS ZANDA\n",
       "1         BLACK PANTHER/T'CHAL\n",
       "2               PRINCESS ZANDA\n",
       "3               PRINCESS ZANDA\n",
       "4         BLACK PANTHER/T'CHAL\n",
       "                  ...         \n",
       "574462                CALLISTO\n",
       "574463                  ROGUE \n",
       "574464                 CALIBAN\n",
       "574465                  ROGUE \n",
       "574466       MARKS, DR. SHIELA\n",
       "Length: 572235, dtype: object"
      ]
     },
     "execution_count": 86,
     "metadata": {},
     "output_type": "execute_result"
    }
   ],
   "source": [
    "hero_net.apply(lambda  row :  row['hero2'].rstrip().rstrip('/'),axis=1)"
   ]
  },
  {
   "cell_type": "code",
   "execution_count": 87,
   "metadata": {},
   "outputs": [],
   "source": [
    "hero_net['hero1'] = hero_net.apply(lambda row :  'SPIDER-MAN/PETER PARKER' if(row['hero1'] == 'SPIDER-MAN/PETER PAR') else row['hero1'],axis=1)"
   ]
  },
  {
   "cell_type": "code",
   "execution_count": 88,
   "metadata": {},
   "outputs": [],
   "source": [
    "hero_net['hero2'] = hero_net.apply(lambda row :  'SPIDER-MAN/PETER PARKER' if(row['hero2'] == 'SPIDER-MAN/PETER PAR') else row['hero2'],axis=1)"
   ]
  },
  {
   "cell_type": "code",
   "execution_count": 89,
   "metadata": {},
   "outputs": [
    {
     "data": {
      "text/plain": [
       "0"
      ]
     },
     "execution_count": 89,
     "metadata": {},
     "output_type": "execute_result"
    }
   ],
   "source": [
    "len(hero_net[hero_net['hero2'] =='SPIDER-MAN/PETER PAR' ])"
   ]
  },
  {
   "cell_type": "code",
   "execution_count": 90,
   "metadata": {},
   "outputs": [],
   "source": [
    "hero_net.to_csv('hero.csv',index=False)"
   ]
  },
  {
   "cell_type": "markdown",
   "metadata": {},
   "source": [
    "### First Graph"
   ]
  },
  {
   "cell_type": "code",
   "execution_count": 91,
   "metadata": {},
   "outputs": [
    {
     "data": {
      "text/html": [
       "<div>\n",
       "<style scoped>\n",
       "    .dataframe tbody tr th:only-of-type {\n",
       "        vertical-align: middle;\n",
       "    }\n",
       "\n",
       "    .dataframe tbody tr th {\n",
       "        vertical-align: top;\n",
       "    }\n",
       "\n",
       "    .dataframe thead th {\n",
       "        text-align: right;\n",
       "    }\n",
       "</style>\n",
       "<table border=\"1\" class=\"dataframe\">\n",
       "  <thead>\n",
       "    <tr style=\"text-align: right;\">\n",
       "      <th></th>\n",
       "      <th>hero1</th>\n",
       "      <th>hero2</th>\n",
       "    </tr>\n",
       "  </thead>\n",
       "  <tbody>\n",
       "    <tr>\n",
       "      <th>0</th>\n",
       "      <td>LITTLE, ABNER</td>\n",
       "      <td>PRINCESS ZANDA</td>\n",
       "    </tr>\n",
       "    <tr>\n",
       "      <th>1</th>\n",
       "      <td>LITTLE, ABNER</td>\n",
       "      <td>BLACK PANTHER/T'CHAL</td>\n",
       "    </tr>\n",
       "    <tr>\n",
       "      <th>2</th>\n",
       "      <td>BLACK PANTHER/T'CHAL</td>\n",
       "      <td>PRINCESS ZANDA</td>\n",
       "    </tr>\n",
       "    <tr>\n",
       "      <th>3</th>\n",
       "      <td>LITTLE, ABNER</td>\n",
       "      <td>PRINCESS ZANDA</td>\n",
       "    </tr>\n",
       "    <tr>\n",
       "      <th>4</th>\n",
       "      <td>LITTLE, ABNER</td>\n",
       "      <td>BLACK PANTHER/T'CHAL</td>\n",
       "    </tr>\n",
       "  </tbody>\n",
       "</table>\n",
       "</div>"
      ],
      "text/plain": [
       "                  hero1                 hero2\n",
       "0         LITTLE, ABNER        PRINCESS ZANDA\n",
       "1         LITTLE, ABNER  BLACK PANTHER/T'CHAL\n",
       "2  BLACK PANTHER/T'CHAL        PRINCESS ZANDA\n",
       "3         LITTLE, ABNER        PRINCESS ZANDA\n",
       "4         LITTLE, ABNER  BLACK PANTHER/T'CHAL"
      ]
     },
     "execution_count": 91,
     "metadata": {},
     "output_type": "execute_result"
    }
   ],
   "source": [
    "hero_net.head()"
   ]
  },
  {
   "cell_type": "code",
   "execution_count": 92,
   "metadata": {},
   "outputs": [
    {
     "data": {
      "text/plain": [
       "572235"
      ]
     },
     "execution_count": 92,
     "metadata": {},
     "output_type": "execute_result"
    }
   ],
   "source": [
    "len(hero_net)"
   ]
  },
  {
   "cell_type": "code",
   "execution_count": 93,
   "metadata": {},
   "outputs": [],
   "source": [
    "new = hero_net.groupby(['hero1','hero2']).hero2.count().reset_index(name=\"count\") "
   ]
  },
  {
   "cell_type": "code",
   "execution_count": 94,
   "metadata": {},
   "outputs": [
    {
     "data": {
      "text/html": [
       "<div>\n",
       "<style scoped>\n",
       "    .dataframe tbody tr th:only-of-type {\n",
       "        vertical-align: middle;\n",
       "    }\n",
       "\n",
       "    .dataframe tbody tr th {\n",
       "        vertical-align: top;\n",
       "    }\n",
       "\n",
       "    .dataframe thead th {\n",
       "        text-align: right;\n",
       "    }\n",
       "</style>\n",
       "<table border=\"1\" class=\"dataframe\">\n",
       "  <thead>\n",
       "    <tr style=\"text-align: right;\">\n",
       "      <th></th>\n",
       "      <th>hero1</th>\n",
       "      <th>hero2</th>\n",
       "      <th>count</th>\n",
       "    </tr>\n",
       "  </thead>\n",
       "  <tbody>\n",
       "    <tr>\n",
       "      <th>0</th>\n",
       "      <td>24-HOUR MAN/EMMANUEL</td>\n",
       "      <td>FROST, CARMILLA</td>\n",
       "      <td>1</td>\n",
       "    </tr>\n",
       "    <tr>\n",
       "      <th>1</th>\n",
       "      <td>24-HOUR MAN/EMMANUEL</td>\n",
       "      <td>KILLRAVEN/JONATHAN R</td>\n",
       "      <td>1</td>\n",
       "    </tr>\n",
       "    <tr>\n",
       "      <th>2</th>\n",
       "      <td>24-HOUR MAN/EMMANUEL</td>\n",
       "      <td>M'SHULLA</td>\n",
       "      <td>1</td>\n",
       "    </tr>\n",
       "    <tr>\n",
       "      <th>3</th>\n",
       "      <td>3-D MAN/CHARLES CHAN</td>\n",
       "      <td>ANGEL/WARREN KENNETH</td>\n",
       "      <td>1</td>\n",
       "    </tr>\n",
       "    <tr>\n",
       "      <th>4</th>\n",
       "      <td>3-D MAN/CHARLES CHAN</td>\n",
       "      <td>ANT-MAN II/SCOTT HAR</td>\n",
       "      <td>1</td>\n",
       "    </tr>\n",
       "  </tbody>\n",
       "</table>\n",
       "</div>"
      ],
      "text/plain": [
       "                  hero1                 hero2  count\n",
       "0  24-HOUR MAN/EMMANUEL       FROST, CARMILLA      1\n",
       "1  24-HOUR MAN/EMMANUEL  KILLRAVEN/JONATHAN R      1\n",
       "2  24-HOUR MAN/EMMANUEL              M'SHULLA      1\n",
       "3  3-D MAN/CHARLES CHAN  ANGEL/WARREN KENNETH      1\n",
       "4  3-D MAN/CHARLES CHAN  ANT-MAN II/SCOTT HAR      1"
      ]
     },
     "execution_count": 94,
     "metadata": {},
     "output_type": "execute_result"
    }
   ],
   "source": [
    "new.head()"
   ]
  },
  {
   "cell_type": "code",
   "execution_count": null,
   "metadata": {},
   "outputs": [],
   "source": [
    "new.info()"
   ]
  },
  {
   "cell_type": "code",
   "execution_count": 96,
   "metadata": {},
   "outputs": [],
   "source": [
    "G1 = nx.Graph()"
   ]
  },
  {
   "cell_type": "code",
   "execution_count": 97,
   "metadata": {},
   "outputs": [
    {
     "data": {
      "text/plain": [
       "0         None\n",
       "1         None\n",
       "2         None\n",
       "3         None\n",
       "4         None\n",
       "          ... \n",
       "224164    None\n",
       "224165    None\n",
       "224166    None\n",
       "224167    None\n",
       "224168    None\n",
       "Length: 224169, dtype: object"
      ]
     },
     "execution_count": 97,
     "metadata": {},
     "output_type": "execute_result"
    }
   ],
   "source": [
    "new.apply(lambda row :  G1.add_edge(row['hero1'],row['hero2'],weight=1/row['count']),axis=1)"
   ]
  },
  {
   "cell_type": "code",
   "execution_count": 98,
   "metadata": {},
   "outputs": [
    {
     "name": "stderr",
     "output_type": "stream",
     "text": [
      "/tmp/ipykernel_30175/968434106.py:1: DeprecationWarning: info is deprecated and will be removed in version 3.0.\n",
      "\n",
      "  nx.info(G1)\n"
     ]
    },
    {
     "data": {
      "text/plain": [
       "'Graph with 6426 nodes and 167207 edges'"
      ]
     },
     "execution_count": 98,
     "metadata": {},
     "output_type": "execute_result"
    }
   ],
   "source": [
    "nx.info(G1)"
   ]
  },
  {
   "cell_type": "markdown",
   "metadata": {},
   "source": [
    "### Second Graph"
   ]
  },
  {
   "cell_type": "code",
   "execution_count": 99,
   "metadata": {},
   "outputs": [],
   "source": [
    "nodes  = pd.read_csv('nodes.csv')"
   ]
  },
  {
   "cell_type": "code",
   "execution_count": 100,
   "metadata": {},
   "outputs": [],
   "source": [
    "edges  =pd.read_csv('edges.csv')"
   ]
  },
  {
   "cell_type": "code",
   "execution_count": 101,
   "metadata": {},
   "outputs": [
    {
     "data": {
      "text/html": [
       "<div>\n",
       "<style scoped>\n",
       "    .dataframe tbody tr th:only-of-type {\n",
       "        vertical-align: middle;\n",
       "    }\n",
       "\n",
       "    .dataframe tbody tr th {\n",
       "        vertical-align: top;\n",
       "    }\n",
       "\n",
       "    .dataframe thead th {\n",
       "        text-align: right;\n",
       "    }\n",
       "</style>\n",
       "<table border=\"1\" class=\"dataframe\">\n",
       "  <thead>\n",
       "    <tr style=\"text-align: right;\">\n",
       "      <th></th>\n",
       "      <th>node</th>\n",
       "      <th>type</th>\n",
       "    </tr>\n",
       "  </thead>\n",
       "  <tbody>\n",
       "    <tr>\n",
       "      <th>0</th>\n",
       "      <td>2001 10</td>\n",
       "      <td>comic</td>\n",
       "    </tr>\n",
       "    <tr>\n",
       "      <th>1</th>\n",
       "      <td>2001 8</td>\n",
       "      <td>comic</td>\n",
       "    </tr>\n",
       "    <tr>\n",
       "      <th>2</th>\n",
       "      <td>2001 9</td>\n",
       "      <td>comic</td>\n",
       "    </tr>\n",
       "    <tr>\n",
       "      <th>3</th>\n",
       "      <td>24-HOUR MAN/EMMANUEL</td>\n",
       "      <td>hero</td>\n",
       "    </tr>\n",
       "    <tr>\n",
       "      <th>4</th>\n",
       "      <td>3-D MAN/CHARLES CHAN</td>\n",
       "      <td>hero</td>\n",
       "    </tr>\n",
       "  </tbody>\n",
       "</table>\n",
       "</div>"
      ],
      "text/plain": [
       "                   node   type\n",
       "0               2001 10  comic\n",
       "1                2001 8  comic\n",
       "2                2001 9  comic\n",
       "3  24-HOUR MAN/EMMANUEL   hero\n",
       "4  3-D MAN/CHARLES CHAN   hero"
      ]
     },
     "execution_count": 101,
     "metadata": {},
     "output_type": "execute_result"
    }
   ],
   "source": [
    "nodes.head()"
   ]
  },
  {
   "cell_type": "code",
   "execution_count": 102,
   "metadata": {},
   "outputs": [
    {
     "data": {
      "text/html": [
       "<div>\n",
       "<style scoped>\n",
       "    .dataframe tbody tr th:only-of-type {\n",
       "        vertical-align: middle;\n",
       "    }\n",
       "\n",
       "    .dataframe tbody tr th {\n",
       "        vertical-align: top;\n",
       "    }\n",
       "\n",
       "    .dataframe thead th {\n",
       "        text-align: right;\n",
       "    }\n",
       "</style>\n",
       "<table border=\"1\" class=\"dataframe\">\n",
       "  <thead>\n",
       "    <tr style=\"text-align: right;\">\n",
       "      <th></th>\n",
       "      <th>hero</th>\n",
       "      <th>comic</th>\n",
       "    </tr>\n",
       "  </thead>\n",
       "  <tbody>\n",
       "    <tr>\n",
       "      <th>0</th>\n",
       "      <td>24-HOUR MAN/EMMANUEL</td>\n",
       "      <td>AA2 35</td>\n",
       "    </tr>\n",
       "    <tr>\n",
       "      <th>1</th>\n",
       "      <td>3-D MAN/CHARLES CHAN</td>\n",
       "      <td>AVF 4</td>\n",
       "    </tr>\n",
       "    <tr>\n",
       "      <th>2</th>\n",
       "      <td>3-D MAN/CHARLES CHAN</td>\n",
       "      <td>AVF 5</td>\n",
       "    </tr>\n",
       "    <tr>\n",
       "      <th>3</th>\n",
       "      <td>3-D MAN/CHARLES CHAN</td>\n",
       "      <td>COC 1</td>\n",
       "    </tr>\n",
       "    <tr>\n",
       "      <th>4</th>\n",
       "      <td>3-D MAN/CHARLES CHAN</td>\n",
       "      <td>H2 251</td>\n",
       "    </tr>\n",
       "  </tbody>\n",
       "</table>\n",
       "</div>"
      ],
      "text/plain": [
       "                   hero   comic\n",
       "0  24-HOUR MAN/EMMANUEL  AA2 35\n",
       "1  3-D MAN/CHARLES CHAN   AVF 4\n",
       "2  3-D MAN/CHARLES CHAN   AVF 5\n",
       "3  3-D MAN/CHARLES CHAN   COC 1\n",
       "4  3-D MAN/CHARLES CHAN  H2 251"
      ]
     },
     "execution_count": 102,
     "metadata": {},
     "output_type": "execute_result"
    }
   ],
   "source": [
    "edges.head()"
   ]
  },
  {
   "cell_type": "code",
   "execution_count": 163,
   "metadata": {},
   "outputs": [],
   "source": [
    "G2 = nx.Graph()"
   ]
  },
  {
   "cell_type": "code",
   "execution_count": 164,
   "metadata": {},
   "outputs": [
    {
     "data": {
      "text/plain": [
       "0        None\n",
       "1        None\n",
       "2        None\n",
       "3        None\n",
       "4        None\n",
       "         ... \n",
       "19085    None\n",
       "19086    None\n",
       "19087    None\n",
       "19088    None\n",
       "19089    None\n",
       "Length: 19090, dtype: object"
      ]
     },
     "execution_count": 164,
     "metadata": {},
     "output_type": "execute_result"
    }
   ],
   "source": [
    "nodes.apply(lambda row :  G2.add_node(row['node'],type = row['type']),axis=1)"
   ]
  },
  {
   "cell_type": "code",
   "execution_count": 165,
   "metadata": {},
   "outputs": [
    {
     "data": {
      "text/plain": [
       "0        None\n",
       "1        None\n",
       "2        None\n",
       "3        None\n",
       "4        None\n",
       "         ... \n",
       "96099    None\n",
       "96100    None\n",
       "96101    None\n",
       "96102    None\n",
       "96103    None\n",
       "Length: 96104, dtype: object"
      ]
     },
     "execution_count": 165,
     "metadata": {},
     "output_type": "execute_result"
    }
   ],
   "source": [
    "edges.apply(lambda row :  G2.add_edge(row['hero'],row['comic']),axis=1)"
   ]
  },
  {
   "cell_type": "code",
   "execution_count": 166,
   "metadata": {},
   "outputs": [
    {
     "name": "stderr",
     "output_type": "stream",
     "text": [
      "/tmp/ipykernel_30175/1976782796.py:1: DeprecationWarning: info is deprecated and will be removed in version 3.0.\n",
      "\n",
      "  nx.info(G2)\n"
     ]
    },
    {
     "data": {
      "text/plain": [
       "'Graph with 19091 nodes and 96104 edges'"
      ]
     },
     "execution_count": 166,
     "metadata": {},
     "output_type": "execute_result"
    }
   ],
   "source": [
    "nx.info(G2)"
   ]
  },
  {
   "cell_type": "code",
   "execution_count": 200,
   "metadata": {},
   "outputs": [],
   "source": [
    "attrs  ={'SPIDER-MAN/PETER PARKER':{'type' : 'hero'}}"
   ]
  },
  {
   "cell_type": "code",
   "execution_count": 201,
   "metadata": {},
   "outputs": [],
   "source": [
    "nx.set_node_attributes(G2,attrs)"
   ]
  },
  {
   "cell_type": "code",
   "execution_count": 202,
   "metadata": {},
   "outputs": [
    {
     "data": {
      "text/plain": [
       "{'type': 'hero'}"
      ]
     },
     "execution_count": 202,
     "metadata": {},
     "output_type": "execute_result"
    }
   ],
   "source": [
    "G2.nodes['SPIDER-MAN/PETER PARKER']"
   ]
  },
  {
   "cell_type": "code",
   "execution_count": 167,
   "metadata": {},
   "outputs": [
    {
     "data": {
      "text/plain": [
       "96104"
      ]
     },
     "execution_count": 167,
     "metadata": {},
     "output_type": "execute_result"
    }
   ],
   "source": [
    "len(edges)"
   ]
  },
  {
   "cell_type": "code",
   "execution_count": 168,
   "metadata": {},
   "outputs": [
    {
     "data": {
      "text/plain": [
       "19090"
      ]
     },
     "execution_count": 168,
     "metadata": {},
     "output_type": "execute_result"
    }
   ],
   "source": [
    "len(nodes)"
   ]
  },
  {
   "cell_type": "markdown",
   "metadata": {},
   "source": [
    "## 2. Backend Implementation"
   ]
  },
  {
   "cell_type": "markdown",
   "metadata": {},
   "source": [
    "**Top N heroes:** The top N heroes who have appeared in the most number of comics. The 'edges.csv' file, which represents the comics in which each hero has appeared, can be used to filter these N heroes."
   ]
  },
  {
   "cell_type": "code",
   "execution_count": 266,
   "metadata": {},
   "outputs": [],
   "source": [
    "N = 20"
   ]
  },
  {
   "cell_type": "code",
   "execution_count": 267,
   "metadata": {},
   "outputs": [],
   "source": [
    "appearances = {node:G2.degree(node) for node in G2.nodes if G2.nodes[node]['type'] == 'hero'}"
   ]
  },
  {
   "cell_type": "code",
   "execution_count": 268,
   "metadata": {},
   "outputs": [],
   "source": [
    "collab  = collections.Counter(appearances).most_common(N)"
   ]
  },
  {
   "cell_type": "code",
   "execution_count": 270,
   "metadata": {},
   "outputs": [],
   "source": [
    "collab  ={x:v for x,v in collab}"
   ]
  },
  {
   "cell_type": "code",
   "execution_count": 271,
   "metadata": {},
   "outputs": [],
   "source": [
    "top_N_heroes  = collab.keys()"
   ]
  },
  {
   "cell_type": "markdown",
   "metadata": {},
   "source": [
    "### Functionality 1 -  extract the graph's features\n"
   ]
  },
  {
   "cell_type": "code",
   "execution_count": 272,
   "metadata": {},
   "outputs": [],
   "source": [
    "def get_graph_features(graph,graph_type,top_N_heroes):\n",
    "    features = {}\n",
    "    n_nodes  = nx.number_of_nodes(graph)\n",
    "    features['number_of_nodes']  = n_nodes\n",
    "    density  = nx.density(graph)\n",
    "    features['density']  = density\n",
    "    degree_sequence = sorted((d for n,d in graph.degree()),reverse=True)\n",
    "    degrees =  np.array(degree_sequence)\n",
    "    percentile  = np.percentile(degrees,95)\n",
    "    if(graph_type==1):\n",
    "        collaborations  = { node : graph.degree(node)  for node in graph.nodes() if node in top_N_heroes}\n",
    "        features['collaborations']  = collaborations\n",
    "        features['hubs']  = [ node for node in graph.nodes() if graph.degree(node) > percentile and node in top_N_heroes]\n",
    "    else:\n",
    "       appearances=  {node  : graph.degree(node) for node in graph.nodes if graph.nodes[node]['type'] == 'comic' }\n",
    "       features['appearances']  = appearances\n",
    "       features['hubs']  = [ node for node in graph.nodes() if graph.degree(node) > percentile and graph.nodes[node]['type'] == 'comic']\n",
    "    features['degree_dist']  = degree_sequence\n",
    "    features['average_degree']  = round(sum(degree_sequence)/len(degree_sequence))\n",
    "    n  = len(graph.nodes())\n",
    "    if( (n*(n-1))/2 - len(graph.edges()) < ((n*n-1)/2)/1000):\n",
    "        is_dense = True\n",
    "    else:\n",
    "        is_dense  = False\n",
    "    features['is_dense']  = is_dense\n",
    "    return features"
   ]
  },
  {
   "cell_type": "code",
   "execution_count": 273,
   "metadata": {},
   "outputs": [],
   "source": [
    "G1_features  =get_graph_features(G1,1,top_N_heroes)"
   ]
  },
  {
   "cell_type": "code",
   "execution_count": 274,
   "metadata": {},
   "outputs": [],
   "source": [
    "G2_features  = get_graph_features(G2,2,top_N_heroes)"
   ]
  },
  {
   "cell_type": "markdown",
   "metadata": {},
   "source": [
    "## 3. Frontend Visualization"
   ]
  },
  {
   "cell_type": "markdown",
   "metadata": {},
   "source": [
    "### Visualization 1 - Visualize some features of the network"
   ]
  },
  {
   "cell_type": "code",
   "execution_count": 303,
   "metadata": {},
   "outputs": [],
   "source": [
    "def visualize_features(features,graph_type):\n",
    "    table  = '| Feature | Values |\\n'\n",
    "    table += '| ------- | ------- |\\n'\n",
    "    table += '| Number_of_nodes |'+ str(features['number_of_nodes'])+'|\\n'\n",
    "    table += '| Density |'+ str(round(float(features['density']),4))+'|\\n'\n",
    "    table += '| Average_degree |'+ str(features['average_degree'])+'|\\n'\n",
    "    table += '| Is_dense |'+ str(features['is_dense'])+'|\\n'\n",
    "    display(Markdown(table))\n",
    "    table = '| Hubs |\\n'\n",
    "    table += '|-----|\\n'\n",
    "    for node in features['hubs']:\n",
    "        table+='|'+str(node)+'|\\n'\n",
    "    display(Markdown(table))\n",
    "    if(graph_type==1):\n",
    "        collab  = {k:v for k,v in sorted(features['collaborations'].items(), key =  lambda item : item[1],reverse=True)}\n",
    "        plt.figure(figsize=(30, 6), dpi=80)\n",
    "        plt.title('Number of collaborations of each hero in descending order')\n",
    "        plt.bar(collab.keys(),collab.values())\n",
    "        plt.show()\n",
    "    else:\n",
    "        apps = {k:v for k,v in sorted(list(features['appearances'].items())[:50], key=lambda item:item[1],reverse=True)}\n",
    "        plt.figure(figsize=(30, 6), dpi=80)\n",
    "        plt.title('Number of heroes who appeared in each comic, sorted in descending order')\n",
    "        plt.bar(apps.keys(),apps.values())\n",
    "        plt.show()\n",
    "\n",
    "            "
   ]
  },
  {
   "cell_type": "code",
   "execution_count": 304,
   "metadata": {},
   "outputs": [
    {
     "data": {
      "text/markdown": [
       "| Feature | Values |\n",
       "| ------- | ------- |\n",
       "| Number_of_nodes |19091|\n",
       "| Density |0.0005|\n",
       "| Average_degree |10|\n",
       "| Is_dense |False|\n"
      ],
      "text/plain": [
       "<IPython.core.display.Markdown object>"
      ]
     },
     "metadata": {},
     "output_type": "display_data"
    },
    {
     "data": {
      "text/markdown": [
       "| Hubs |\n",
       "|-----|\n",
       "|A 10|\n",
       "|A 118|\n",
       "|A 12|\n",
       "|A 15|\n",
       "|A 16|\n",
       "|A 173|\n",
       "|A 188|\n",
       "|A 18|\n",
       "|A 19|\n",
       "|A 1|\n",
       "|A 21|\n",
       "|A 305|\n",
       "|A 310|\n",
       "|A3 10|\n",
       "|A3 11|\n",
       "|A3 1|\n",
       "|A 329|\n",
       "|A3 2|\n",
       "|A 332|\n",
       "|A3 32|\n",
       "|A 333|\n",
       "|A3 33|\n",
       "|A3 3|\n",
       "|A3 43|\n",
       "|A 345|\n",
       "|A3 4|\n",
       "|A 60|\n",
       "|A 8|\n",
       "|A '99|\n",
       "|AF 110|\n",
       "|AF 111|\n",
       "|AF2 12|\n",
       "|AF 61|\n",
       "|AF 88|\n",
       "|AF 90|\n",
       "|AF 98|\n",
       "|AR 1|\n",
       "|AR 2|\n",
       "|ASM 16|\n",
       "|ASM 18|\n",
       "|ASM 1|\n",
       "|ASM2 1|\n",
       "|ASM 280|\n",
       "|ASM 400|\n",
       "|A:T|\n",
       "|AUP 4|\n",
       "|AWC 82|\n",
       "|AWC 84|\n",
       "|CA 319|\n",
       "|CA 342|\n",
       "|CA 380|\n",
       "|CA 383|\n",
       "|CA 389|\n",
       "|CA 390|\n",
       "|CA 391|\n",
       "|CA 401|\n",
       "|COC 1|\n",
       "|COC 3|\n",
       "|DAMCON3 4|\n",
       "|DAZZ 21|\n",
       "|DD2 8|\n",
       "|DEF 112|\n",
       "|DEF 113|\n",
       "|DEF 114|\n",
       "|DEF 62|\n",
       "|DEF 63|\n",
       "|DEF 64|\n",
       "|E2 12|\n",
       "|FF 14|\n",
       "|FF 150|\n",
       "|FF 22|\n",
       "|FF 23|\n",
       "|FF 25|\n",
       "|FF3 23|\n",
       "|FF3 27|\n",
       "|FF 367|\n",
       "|FF 368|\n",
       "|FF 369|\n",
       "|FF3 6|\n",
       "|FF 370|\n",
       "|FF3 7|\n",
       "|FF 3|\n",
       "|FF 400/2|\n",
       "|FF 402|\n",
       "|FF 416|\n",
       "|FFU 10|\n",
       "|H2 277|\n",
       "|H2 278|\n",
       "|H2 279|\n",
       "|H2 434|\n",
       "|HFH 16|\n",
       "|HFH 8|\n",
       "|HR:R 4|\n",
       "|IG 2|\n",
       "|IG 3|\n",
       "|IG 4|\n",
       "|IG 5|\n",
       "|IG 6|\n",
       "|IM3 1|\n",
       "|IM '99|\n",
       "|INH3 4|\n",
       "|IW 1|\n",
       "|IW 2|\n",
       "|IW 3|\n",
       "|IW 4|\n",
       "|IW 5|\n",
       "|IW 6|\n",
       "|MARVELS 2|\n",
       "|MAXSEC 1|\n",
       "|MAXSEC 2|\n",
       "|MAXSEC 3|\n",
       "|M:DS 1|\n",
       "|M:DS 2|\n",
       "|M/GN 1|\n",
       "|MK3 41|\n",
       "|M/:LG 12|\n",
       "|M/SHSW 10|\n",
       "|M/SHSW 11|\n",
       "|M/SHSW 12|\n",
       "|M/SHSW 1|\n",
       "|M/SHSW 2|\n",
       "|M/SHSW 3|\n",
       "|M/SHSW 4|\n",
       "|M/SHSW 5|\n",
       "|M/SHSW 6|\n",
       "|M/SHSW 7|\n",
       "|M/SHSW 8|\n",
       "|M/SHSW 9|\n",
       "|M/TIO 7|\n",
       "|M/TIO 96|\n",
       "|M/TU 4|\n",
       "|MX '01|\n",
       "|MX 12|\n",
       "|MX 32|\n",
       "|NFV.S 2|\n",
       "|NM 2|\n",
       "|NM 46|\n",
       "|NM 51|\n",
       "|NM 7|\n",
       "|NM 86|\n",
       "|NM 87|\n",
       "|NW 1|\n",
       "|NW 27|\n",
       "|NW 9|\n",
       "|O:MU|\n",
       "|O:X|\n",
       "|PP 27|\n",
       "|Q 14|\n",
       "|Q 23|\n",
       "|Q 25|\n",
       "|Q 28|\n",
       "|Q 33|\n",
       "|Q 38|\n",
       "|Q 39|\n",
       "|QS 11|\n",
       "|QS 12|\n",
       "|QS 6|\n",
       "|ROM 65|\n",
       "|ROM 66|\n",
       "|S-M 23|\n",
       "|S-M 75|\n",
       "|ST 156|\n",
       "|SWII 1|\n",
       "|SWII 5|\n",
       "|SWII 7|\n",
       "|SWII 9|\n",
       "|T 291|\n",
       "|T 300|\n",
       "|T 301|\n",
       "|T 426|\n",
       "|T 427|\n",
       "|T 482|\n",
       "|TB 10|\n",
       "|TB 24|\n",
       "|TB 25|\n",
       "|TB 32|\n",
       "|TB 44|\n",
       "|TB 49|\n",
       "|TB 6|\n",
       "|TB 8|\n",
       "|TB '97|\n",
       "|TM/U 1|\n",
       "|UTSM '97|\n",
       "|UX 107|\n",
       "|UX 108|\n",
       "|UX 109|\n",
       "|UX 10|\n",
       "|UX 122|\n",
       "|UX 12|\n",
       "|UX 137|\n",
       "|UX 13|\n",
       "|UX 14|\n",
       "|UX 157|\n",
       "|UX 158|\n",
       "|UX 15|\n",
       "|UX 167|\n",
       "|UX 175|\n",
       "|UX 190|\n",
       "|UX 191|\n",
       "|UX 200|\n",
       "|UX 201|\n",
       "|UX 210|\n",
       "|UX 223|\n",
       "|UX 227|\n",
       "|UX 240|\n",
       "|UX 255|\n",
       "|UX 272|\n",
       "|UX 274|\n",
       "|UX 275|\n",
       "|UX 280|\n",
       "|UX 294|\n",
       "|UX 295|\n",
       "|UX 296|\n",
       "|UX 325|\n",
       "|UX 335|\n",
       "|UX 336|\n",
       "|UX 350|\n",
       "|UX 377|\n",
       "|UX 379|\n",
       "|UX 388|\n",
       "|UX 5|\n",
       "|UX 7|\n",
       "|UX 8|\n",
       "|UX 94|\n",
       "|UX 98|\n",
       "|UX 9|\n",
       "|WCA 1|\n",
       "|WIW 8|\n",
       "|WM2 13|\n",
       "|WM2 14|\n",
       "|WM2 15|\n",
       "|WOSM 50|\n",
       "|WOSM 77|\n",
       "|WOSM 78|\n",
       "|WOSM 8|\n",
       "|X 106|\n",
       "|X 14|\n",
       "|X 15|\n",
       "|X 1|\n",
       "|X 2|\n",
       "|X 3|\n",
       "|X 55|\n",
       "|X 5|\n",
       "|X 96|\n",
       "|XCAL 125|\n",
       "|XF 10|\n",
       "|XF 2|\n",
       "|XF 5|\n",
       "|XF 6|\n",
       "|XF 7|\n",
       "|XF 84|\n",
       "|XF 85|\n",
       "|XFOR 16|\n",
       "|XFOR 17|\n",
       "|X:MW 1|\n",
       "|X:PRIME|\n",
       "|XSOS 2|\n"
      ],
      "text/plain": [
       "<IPython.core.display.Markdown object>"
      ]
     },
     "metadata": {},
     "output_type": "display_data"
    },
    {
     "data": {
      "image/png": "[encoded data removed]",
      "text/plain": [
       "<Figure size 2400x480 with 1 Axes>"
      ]
     },
     "metadata": {},
     "output_type": "display_data"
    }
   ],
   "source": [
    "visualize_features(G2_features,2)"
   ]
  },
  {
   "cell_type": "code",
   "execution_count": 305,
   "metadata": {},
   "outputs": [
    {
     "data": {
      "text/markdown": [
       "| Feature | Values |\n",
       "| ------- | ------- |\n",
       "| Number_of_nodes |6426|\n",
       "| Density |0.0081|\n",
       "| Average_degree |52|\n",
       "| Is_dense |False|\n"
      ],
      "text/plain": [
       "<IPython.core.display.Markdown object>"
      ]
     },
     "metadata": {},
     "output_type": "display_data"
    },
    {
     "data": {
      "text/markdown": [
       "| Hubs |\n",
       "|-----|\n",
       "|CAPTAIN AMERICA|\n",
       "|CYCLOPS/SCOTT SUMMER|\n",
       "|HAWK|\n",
       "|THING/BENJAMIN J. GR|\n",
       "|JAMESON, J. JONAH|\n",
       "|THOR/DR. DONALD BLAK|\n",
       "|DAREDEVIL/MATT MURDO|\n",
       "|BEAST/HENRY &HANK& P|\n",
       "|MR. FANTASTIC/REED R|\n",
       "|HULK/DR. ROBERT BRUC|\n",
       "|HUMAN TORCH/JOHNNY S|\n",
       "|SPIDER-MAN/PETER PARKER|\n"
      ],
      "text/plain": [
       "<IPython.core.display.Markdown object>"
      ]
     },
     "metadata": {},
     "output_type": "display_data"
    },
    {
     "data": {
      "image/png": "[encoded data removed]",
      "text/plain": [
       "<Figure size 2400x480 with 1 Axes>"
      ]
     },
     "metadata": {},
     "output_type": "display_data"
    }
   ],
   "source": [
    "visualize_features(G1_features,1)"
   ]
  }
 ],
 "metadata": {
  "kernelspec": {
   "display_name": "Python 3 (ipykernel)",
   "language": "python",
   "name": "python3"
  },
  "language_info": {
   "codemirror_mode": {
    "name": "ipython",
    "version": 3
   },
   "file_extension": ".py",
   "mimetype": "text/x-python",
   "name": "python",
   "nbconvert_exporter": "python",
   "pygments_lexer": "ipython3",
   "version": "3.9.12"
  },
  "vscode": {
   "interpreter": {
    "hash": "916dbcbb3f70747c44a77c7bcd40155683ae19c65e1c03b4aa3499c5328201f1"
   }
  }
 },
 "nbformat": 4,
 "nbformat_minor": 2
}
