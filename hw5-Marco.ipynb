{
 "cells": [
  {
   "cell_type": "markdown",
   "metadata": {},
   "source": [
    "# HOMEWORK 5"
   ]
  },
  {
   "cell_type": "code",
   "execution_count": 2,
   "metadata": {
    "scrolled": true
   },
   "outputs": [],
   "source": [
    "import numpy as np\n",
    "import pandas as pd\n",
    "import networkx as nx\n",
    "import seaborn as sns\n",
    "from networkx.algorithms import centrality\n",
    "import matplotlib.pyplot as plt\n",
    "from IPython.display import display, Markdown\n",
    "import collections\n",
    "import random\n",
    "import igraph\n",
    "import scipy"
   ]
  },
  {
   "cell_type": "markdown",
   "metadata": {},
   "source": [
    "## 1. Data\n"
   ]
  },
  {
   "cell_type": "code",
   "execution_count": 3,
   "metadata": {},
   "outputs": [],
   "source": [
    "hero_net  = pd.read_csv('D:\\DataScience\\ADM\\homework5\\hero-network.csv')"
   ]
  },
  {
   "cell_type": "markdown",
   "metadata": {},
   "source": [
    "### 1.2 Data Preprocessing"
   ]
  },
  {
   "cell_type": "code",
   "execution_count": 4,
   "metadata": {},
   "outputs": [],
   "source": [
    "hero_net.drop(hero_net[hero_net['hero1'] == hero_net['hero2']].index,inplace=True)"
   ]
  },
  {
   "cell_type": "code",
   "execution_count": 5,
   "metadata": {},
   "outputs": [
    {
     "data": {
      "text/plain": [
       "0                LITTLE, ABNER\n",
       "1                LITTLE, ABNER\n",
       "2         BLACK PANTHER/T'CHAL\n",
       "3                LITTLE, ABNER\n",
       "4                LITTLE, ABNER\n",
       "                  ...         \n",
       "574462    COLOSSUS II/PETER RA\n",
       "574463                CALLISTO\n",
       "574464                CALLISTO\n",
       "574465                 CALIBAN\n",
       "574466    HULK/DR. ROBERT BRUC\n",
       "Length: 572235, dtype: object"
      ]
     },
     "execution_count": 5,
     "metadata": {},
     "output_type": "execute_result"
    }
   ],
   "source": [
    "hero_net.apply(lambda  row :  row['hero1'].rstrip().rstrip('/'),axis=1)"
   ]
  },
  {
   "cell_type": "code",
   "execution_count": 6,
   "metadata": {},
   "outputs": [
    {
     "data": {
      "text/plain": [
       "0               PRINCESS ZANDA\n",
       "1         BLACK PANTHER/T'CHAL\n",
       "2               PRINCESS ZANDA\n",
       "3               PRINCESS ZANDA\n",
       "4         BLACK PANTHER/T'CHAL\n",
       "                  ...         \n",
       "574462                CALLISTO\n",
       "574463                  ROGUE \n",
       "574464                 CALIBAN\n",
       "574465                  ROGUE \n",
       "574466       MARKS, DR. SHIELA\n",
       "Length: 572235, dtype: object"
      ]
     },
     "execution_count": 6,
     "metadata": {},
     "output_type": "execute_result"
    }
   ],
   "source": [
    "hero_net.apply(lambda  row :  row['hero2'].rstrip().rstrip('/'),axis=1)"
   ]
  },
  {
   "cell_type": "code",
   "execution_count": 7,
   "metadata": {},
   "outputs": [],
   "source": [
    "hero_net['hero1'] = hero_net.apply(lambda row :  'SPIDER-MAN/PETER PARKER' if(row['hero1'] == 'SPIDER-MAN/PETER PAR') else row['hero1'],axis=1)"
   ]
  },
  {
   "cell_type": "code",
   "execution_count": 8,
   "metadata": {},
   "outputs": [],
   "source": [
    "hero_net['hero2'] = hero_net.apply(lambda row :  'SPIDER-MAN/PETER PARKER' if(row['hero2'] == 'SPIDER-MAN/PETER PAR') else row['hero2'],axis=1)"
   ]
  },
  {
   "cell_type": "code",
   "execution_count": 9,
   "metadata": {},
   "outputs": [
    {
     "data": {
      "text/plain": [
       "0"
      ]
     },
     "execution_count": 9,
     "metadata": {},
     "output_type": "execute_result"
    }
   ],
   "source": [
    "len(hero_net[hero_net['hero2'] =='SPIDER-MAN/PETER PAR' ])"
   ]
  },
  {
   "cell_type": "code",
   "execution_count": 10,
   "metadata": {},
   "outputs": [],
   "source": [
    "hero_net.to_csv('hero.csv',index=False)"
   ]
  },
  {
   "cell_type": "markdown",
   "metadata": {},
   "source": [
    "### First Graph"
   ]
  },
  {
   "cell_type": "code",
   "execution_count": 11,
   "metadata": {},
   "outputs": [
    {
     "data": {
      "text/html": [
       "<div>\n",
       "<style scoped>\n",
       "    .dataframe tbody tr th:only-of-type {\n",
       "        vertical-align: middle;\n",
       "    }\n",
       "\n",
       "    .dataframe tbody tr th {\n",
       "        vertical-align: top;\n",
       "    }\n",
       "\n",
       "    .dataframe thead th {\n",
       "        text-align: right;\n",
       "    }\n",
       "</style>\n",
       "<table border=\"1\" class=\"dataframe\">\n",
       "  <thead>\n",
       "    <tr style=\"text-align: right;\">\n",
       "      <th></th>\n",
       "      <th>hero1</th>\n",
       "      <th>hero2</th>\n",
       "    </tr>\n",
       "  </thead>\n",
       "  <tbody>\n",
       "    <tr>\n",
       "      <th>0</th>\n",
       "      <td>LITTLE, ABNER</td>\n",
       "      <td>PRINCESS ZANDA</td>\n",
       "    </tr>\n",
       "    <tr>\n",
       "      <th>1</th>\n",
       "      <td>LITTLE, ABNER</td>\n",
       "      <td>BLACK PANTHER/T'CHAL</td>\n",
       "    </tr>\n",
       "    <tr>\n",
       "      <th>2</th>\n",
       "      <td>BLACK PANTHER/T'CHAL</td>\n",
       "      <td>PRINCESS ZANDA</td>\n",
       "    </tr>\n",
       "    <tr>\n",
       "      <th>3</th>\n",
       "      <td>LITTLE, ABNER</td>\n",
       "      <td>PRINCESS ZANDA</td>\n",
       "    </tr>\n",
       "    <tr>\n",
       "      <th>4</th>\n",
       "      <td>LITTLE, ABNER</td>\n",
       "      <td>BLACK PANTHER/T'CHAL</td>\n",
       "    </tr>\n",
       "  </tbody>\n",
       "</table>\n",
       "</div>"
      ],
      "text/plain": [
       "                  hero1                 hero2\n",
       "0         LITTLE, ABNER        PRINCESS ZANDA\n",
       "1         LITTLE, ABNER  BLACK PANTHER/T'CHAL\n",
       "2  BLACK PANTHER/T'CHAL        PRINCESS ZANDA\n",
       "3         LITTLE, ABNER        PRINCESS ZANDA\n",
       "4         LITTLE, ABNER  BLACK PANTHER/T'CHAL"
      ]
     },
     "execution_count": 11,
     "metadata": {},
     "output_type": "execute_result"
    }
   ],
   "source": [
    "hero_net.head()"
   ]
  },
  {
   "cell_type": "code",
   "execution_count": 12,
   "metadata": {},
   "outputs": [
    {
     "data": {
      "text/plain": [
       "572235"
      ]
     },
     "execution_count": 12,
     "metadata": {},
     "output_type": "execute_result"
    }
   ],
   "source": [
    "len(hero_net)"
   ]
  },
  {
   "cell_type": "code",
   "execution_count": 13,
   "metadata": {},
   "outputs": [],
   "source": [
    "new = hero_net.groupby(['hero1','hero2']).hero2.count().reset_index(name=\"count\") "
   ]
  },
  {
   "cell_type": "code",
   "execution_count": 14,
   "metadata": {},
   "outputs": [
    {
     "data": {
      "text/html": [
       "<div>\n",
       "<style scoped>\n",
       "    .dataframe tbody tr th:only-of-type {\n",
       "        vertical-align: middle;\n",
       "    }\n",
       "\n",
       "    .dataframe tbody tr th {\n",
       "        vertical-align: top;\n",
       "    }\n",
       "\n",
       "    .dataframe thead th {\n",
       "        text-align: right;\n",
       "    }\n",
       "</style>\n",
       "<table border=\"1\" class=\"dataframe\">\n",
       "  <thead>\n",
       "    <tr style=\"text-align: right;\">\n",
       "      <th></th>\n",
       "      <th>hero1</th>\n",
       "      <th>hero2</th>\n",
       "      <th>count</th>\n",
       "    </tr>\n",
       "  </thead>\n",
       "  <tbody>\n",
       "    <tr>\n",
       "      <th>0</th>\n",
       "      <td>24-HOUR MAN/EMMANUEL</td>\n",
       "      <td>FROST, CARMILLA</td>\n",
       "      <td>1</td>\n",
       "    </tr>\n",
       "    <tr>\n",
       "      <th>1</th>\n",
       "      <td>24-HOUR MAN/EMMANUEL</td>\n",
       "      <td>KILLRAVEN/JONATHAN R</td>\n",
       "      <td>1</td>\n",
       "    </tr>\n",
       "    <tr>\n",
       "      <th>2</th>\n",
       "      <td>24-HOUR MAN/EMMANUEL</td>\n",
       "      <td>M'SHULLA</td>\n",
       "      <td>1</td>\n",
       "    </tr>\n",
       "    <tr>\n",
       "      <th>3</th>\n",
       "      <td>3-D MAN/CHARLES CHAN</td>\n",
       "      <td>ANGEL/WARREN KENNETH</td>\n",
       "      <td>1</td>\n",
       "    </tr>\n",
       "    <tr>\n",
       "      <th>4</th>\n",
       "      <td>3-D MAN/CHARLES CHAN</td>\n",
       "      <td>ANT-MAN II/SCOTT HAR</td>\n",
       "      <td>1</td>\n",
       "    </tr>\n",
       "  </tbody>\n",
       "</table>\n",
       "</div>"
      ],
      "text/plain": [
       "                  hero1                 hero2  count\n",
       "0  24-HOUR MAN/EMMANUEL       FROST, CARMILLA      1\n",
       "1  24-HOUR MAN/EMMANUEL  KILLRAVEN/JONATHAN R      1\n",
       "2  24-HOUR MAN/EMMANUEL              M'SHULLA      1\n",
       "3  3-D MAN/CHARLES CHAN  ANGEL/WARREN KENNETH      1\n",
       "4  3-D MAN/CHARLES CHAN  ANT-MAN II/SCOTT HAR      1"
      ]
     },
     "execution_count": 14,
     "metadata": {},
     "output_type": "execute_result"
    }
   ],
   "source": [
    "new.head()"
   ]
  },
  {
   "cell_type": "code",
   "execution_count": 15,
   "metadata": {},
   "outputs": [
    {
     "name": "stdout",
     "output_type": "stream",
     "text": [
      "<class 'pandas.core.frame.DataFrame'>\n",
      "RangeIndex: 224169 entries, 0 to 224168\n",
      "Data columns (total 3 columns):\n",
      " #   Column  Non-Null Count   Dtype \n",
      "---  ------  --------------   ----- \n",
      " 0   hero1   224169 non-null  object\n",
      " 1   hero2   224169 non-null  object\n",
      " 2   count   224169 non-null  int64 \n",
      "dtypes: int64(1), object(2)\n",
      "memory usage: 5.1+ MB\n"
     ]
    }
   ],
   "source": [
    "new.info()"
   ]
  },
  {
   "cell_type": "code",
   "execution_count": 16,
   "metadata": {},
   "outputs": [],
   "source": [
    "G1 = nx.Graph()"
   ]
  },
  {
   "cell_type": "code",
   "execution_count": 17,
   "metadata": {},
   "outputs": [
    {
     "data": {
      "text/plain": [
       "0         None\n",
       "1         None\n",
       "2         None\n",
       "3         None\n",
       "4         None\n",
       "          ... \n",
       "224164    None\n",
       "224165    None\n",
       "224166    None\n",
       "224167    None\n",
       "224168    None\n",
       "Length: 224169, dtype: object"
      ]
     },
     "execution_count": 17,
     "metadata": {},
     "output_type": "execute_result"
    }
   ],
   "source": [
    "new.apply(lambda row :  G1.add_edge(row['hero1'],row['hero2'],weight=1/row['count']),axis=1)"
   ]
  },
  {
   "cell_type": "code",
   "execution_count": 18,
   "metadata": {},
   "outputs": [
    {
     "name": "stderr",
     "output_type": "stream",
     "text": [
      "C:\\Users\\Marco\\AppData\\Local\\Temp\\ipykernel_24344\\968434106.py:1: DeprecationWarning: info is deprecated and will be removed in version 3.0.\n",
      "\n",
      "  nx.info(G1)\n"
     ]
    },
    {
     "data": {
      "text/plain": [
       "'Graph with 6426 nodes and 167207 edges'"
      ]
     },
     "execution_count": 18,
     "metadata": {},
     "output_type": "execute_result"
    }
   ],
   "source": [
    "nx.info(G1)"
   ]
  },
  {
   "cell_type": "markdown",
   "metadata": {},
   "source": [
    "### Second Graph"
   ]
  },
  {
   "cell_type": "code",
   "execution_count": 19,
   "metadata": {},
   "outputs": [],
   "source": [
    "nodes = pd.read_csv(r'D:\\DataScience\\ADM\\homework5\\nodes.csv')"
   ]
  },
  {
   "cell_type": "code",
   "execution_count": 20,
   "metadata": {},
   "outputs": [],
   "source": [
    "edges = pd.read_csv('D:\\DataScience\\ADM\\homework5\\edges.csv')"
   ]
  },
  {
   "cell_type": "code",
   "execution_count": 21,
   "metadata": {},
   "outputs": [
    {
     "data": {
      "text/html": [
       "<div>\n",
       "<style scoped>\n",
       "    .dataframe tbody tr th:only-of-type {\n",
       "        vertical-align: middle;\n",
       "    }\n",
       "\n",
       "    .dataframe tbody tr th {\n",
       "        vertical-align: top;\n",
       "    }\n",
       "\n",
       "    .dataframe thead th {\n",
       "        text-align: right;\n",
       "    }\n",
       "</style>\n",
       "<table border=\"1\" class=\"dataframe\">\n",
       "  <thead>\n",
       "    <tr style=\"text-align: right;\">\n",
       "      <th></th>\n",
       "      <th>node</th>\n",
       "      <th>type</th>\n",
       "    </tr>\n",
       "  </thead>\n",
       "  <tbody>\n",
       "    <tr>\n",
       "      <th>0</th>\n",
       "      <td>2001 10</td>\n",
       "      <td>comic</td>\n",
       "    </tr>\n",
       "    <tr>\n",
       "      <th>1</th>\n",
       "      <td>2001 8</td>\n",
       "      <td>comic</td>\n",
       "    </tr>\n",
       "    <tr>\n",
       "      <th>2</th>\n",
       "      <td>2001 9</td>\n",
       "      <td>comic</td>\n",
       "    </tr>\n",
       "    <tr>\n",
       "      <th>3</th>\n",
       "      <td>24-HOUR MAN/EMMANUEL</td>\n",
       "      <td>hero</td>\n",
       "    </tr>\n",
       "    <tr>\n",
       "      <th>4</th>\n",
       "      <td>3-D MAN/CHARLES CHAN</td>\n",
       "      <td>hero</td>\n",
       "    </tr>\n",
       "  </tbody>\n",
       "</table>\n",
       "</div>"
      ],
      "text/plain": [
       "                   node   type\n",
       "0               2001 10  comic\n",
       "1                2001 8  comic\n",
       "2                2001 9  comic\n",
       "3  24-HOUR MAN/EMMANUEL   hero\n",
       "4  3-D MAN/CHARLES CHAN   hero"
      ]
     },
     "execution_count": 21,
     "metadata": {},
     "output_type": "execute_result"
    }
   ],
   "source": [
    "nodes.head()"
   ]
  },
  {
   "cell_type": "code",
   "execution_count": 22,
   "metadata": {},
   "outputs": [
    {
     "data": {
      "text/html": [
       "<div>\n",
       "<style scoped>\n",
       "    .dataframe tbody tr th:only-of-type {\n",
       "        vertical-align: middle;\n",
       "    }\n",
       "\n",
       "    .dataframe tbody tr th {\n",
       "        vertical-align: top;\n",
       "    }\n",
       "\n",
       "    .dataframe thead th {\n",
       "        text-align: right;\n",
       "    }\n",
       "</style>\n",
       "<table border=\"1\" class=\"dataframe\">\n",
       "  <thead>\n",
       "    <tr style=\"text-align: right;\">\n",
       "      <th></th>\n",
       "      <th>hero</th>\n",
       "      <th>comic</th>\n",
       "    </tr>\n",
       "  </thead>\n",
       "  <tbody>\n",
       "    <tr>\n",
       "      <th>0</th>\n",
       "      <td>24-HOUR MAN/EMMANUEL</td>\n",
       "      <td>AA2 35</td>\n",
       "    </tr>\n",
       "    <tr>\n",
       "      <th>1</th>\n",
       "      <td>3-D MAN/CHARLES CHAN</td>\n",
       "      <td>AVF 4</td>\n",
       "    </tr>\n",
       "    <tr>\n",
       "      <th>2</th>\n",
       "      <td>3-D MAN/CHARLES CHAN</td>\n",
       "      <td>AVF 5</td>\n",
       "    </tr>\n",
       "    <tr>\n",
       "      <th>3</th>\n",
       "      <td>3-D MAN/CHARLES CHAN</td>\n",
       "      <td>COC 1</td>\n",
       "    </tr>\n",
       "    <tr>\n",
       "      <th>4</th>\n",
       "      <td>3-D MAN/CHARLES CHAN</td>\n",
       "      <td>H2 251</td>\n",
       "    </tr>\n",
       "  </tbody>\n",
       "</table>\n",
       "</div>"
      ],
      "text/plain": [
       "                   hero   comic\n",
       "0  24-HOUR MAN/EMMANUEL  AA2 35\n",
       "1  3-D MAN/CHARLES CHAN   AVF 4\n",
       "2  3-D MAN/CHARLES CHAN   AVF 5\n",
       "3  3-D MAN/CHARLES CHAN   COC 1\n",
       "4  3-D MAN/CHARLES CHAN  H2 251"
      ]
     },
     "execution_count": 22,
     "metadata": {},
     "output_type": "execute_result"
    }
   ],
   "source": [
    "edges.head()"
   ]
  },
  {
   "cell_type": "code",
   "execution_count": 23,
   "metadata": {},
   "outputs": [],
   "source": [
    "G2 = nx.Graph()"
   ]
  },
  {
   "cell_type": "code",
   "execution_count": 24,
   "metadata": {},
   "outputs": [
    {
     "data": {
      "text/plain": [
       "0        None\n",
       "1        None\n",
       "2        None\n",
       "3        None\n",
       "4        None\n",
       "         ... \n",
       "19085    None\n",
       "19086    None\n",
       "19087    None\n",
       "19088    None\n",
       "19089    None\n",
       "Length: 19090, dtype: object"
      ]
     },
     "execution_count": 24,
     "metadata": {},
     "output_type": "execute_result"
    }
   ],
   "source": [
    "nodes.apply(lambda row :  G2.add_node(row['node'],type = row['type']),axis=1)"
   ]
  },
  {
   "cell_type": "code",
   "execution_count": 25,
   "metadata": {},
   "outputs": [
    {
     "data": {
      "text/plain": [
       "0        None\n",
       "1        None\n",
       "2        None\n",
       "3        None\n",
       "4        None\n",
       "         ... \n",
       "96099    None\n",
       "96100    None\n",
       "96101    None\n",
       "96102    None\n",
       "96103    None\n",
       "Length: 96104, dtype: object"
      ]
     },
     "execution_count": 25,
     "metadata": {},
     "output_type": "execute_result"
    }
   ],
   "source": [
    "edges.apply(lambda row :  G2.add_edge(row['hero'],row['comic']),axis=1)"
   ]
  },
  {
   "cell_type": "code",
   "execution_count": 26,
   "metadata": {},
   "outputs": [
    {
     "name": "stderr",
     "output_type": "stream",
     "text": [
      "C:\\Users\\Marco\\AppData\\Local\\Temp\\ipykernel_24344\\1976782796.py:1: DeprecationWarning: info is deprecated and will be removed in version 3.0.\n",
      "\n",
      "  nx.info(G2)\n"
     ]
    },
    {
     "data": {
      "text/plain": [
       "'Graph with 19091 nodes and 96104 edges'"
      ]
     },
     "execution_count": 26,
     "metadata": {},
     "output_type": "execute_result"
    }
   ],
   "source": [
    "nx.info(G2)"
   ]
  },
  {
   "cell_type": "code",
   "execution_count": 27,
   "metadata": {},
   "outputs": [],
   "source": [
    "attrs = {'SPIDER-MAN/PETER PARKER':{'type' : 'hero'}}"
   ]
  },
  {
   "cell_type": "code",
   "execution_count": 28,
   "metadata": {},
   "outputs": [],
   "source": [
    "nx.set_node_attributes(G2,attrs)"
   ]
  },
  {
   "cell_type": "code",
   "execution_count": 29,
   "metadata": {},
   "outputs": [
    {
     "data": {
      "text/plain": [
       "{'type': 'hero'}"
      ]
     },
     "execution_count": 29,
     "metadata": {},
     "output_type": "execute_result"
    }
   ],
   "source": [
    "G2.nodes['SPIDER-MAN/PETER PARKER']"
   ]
  },
  {
   "cell_type": "code",
   "execution_count": 30,
   "metadata": {},
   "outputs": [
    {
     "data": {
      "text/plain": [
       "96104"
      ]
     },
     "execution_count": 30,
     "metadata": {},
     "output_type": "execute_result"
    }
   ],
   "source": [
    "len(edges)"
   ]
  },
  {
   "cell_type": "code",
   "execution_count": 31,
   "metadata": {},
   "outputs": [
    {
     "data": {
      "text/plain": [
       "19090"
      ]
     },
     "execution_count": 31,
     "metadata": {},
     "output_type": "execute_result"
    }
   ],
   "source": [
    "len(nodes)"
   ]
  },
  {
   "cell_type": "markdown",
   "metadata": {},
   "source": [
    "## 2. Backend Implementation"
   ]
  },
  {
   "cell_type": "markdown",
   "metadata": {},
   "source": [
    "**Top N heroes:** The top N heroes who have appeared in the most number of comics. The 'edges.csv' file, which represents the comics in which each hero has appeared, can be used to filter these N heroes."
   ]
  },
  {
   "cell_type": "code",
   "execution_count": 32,
   "metadata": {},
   "outputs": [],
   "source": [
    "N = 20"
   ]
  },
  {
   "cell_type": "code",
   "execution_count": 33,
   "metadata": {},
   "outputs": [],
   "source": [
    "appearances = {node:G2.degree(node) for node in G2.nodes if G2.nodes[node]['type'] == 'hero'}"
   ]
  },
  {
   "cell_type": "code",
   "execution_count": 34,
   "metadata": {},
   "outputs": [],
   "source": [
    "collab  = collections.Counter(appearances).most_common(N)"
   ]
  },
  {
   "cell_type": "code",
   "execution_count": 35,
   "metadata": {},
   "outputs": [],
   "source": [
    "collab  ={x:v for x,v in collab}"
   ]
  },
  {
   "cell_type": "code",
   "execution_count": 36,
   "metadata": {},
   "outputs": [],
   "source": [
    "top_N_heroes  = collab.keys()"
   ]
  },
  {
   "cell_type": "code",
   "execution_count": 37,
   "metadata": {},
   "outputs": [
    {
     "data": {
      "text/plain": [
       "dict_keys(['SPIDER-MAN/PETER PARKER', 'CAPTAIN AMERICA', 'IRON MAN/TONY STARK', 'THING/BENJAMIN J. GR', 'THOR/DR. DONALD BLAK', 'HUMAN TORCH/JOHNNY S', 'MR. FANTASTIC/REED R', 'HULK/DR. ROBERT BRUC', 'WOLVERINE/LOGAN', 'INVISIBLE WOMAN/SUE', 'SCARLET WITCH/WANDA', 'BEAST/HENRY &HANK& P', 'DR. STRANGE/STEPHEN', 'WATSON-PARKER, MARY', 'DAREDEVIL/MATT MURDO', 'HAWK', 'VISION', 'CYCLOPS/SCOTT SUMMER', 'WASP/JANET VAN DYNE', 'JAMESON, J. JONAH'])"
      ]
     },
     "execution_count": 37,
     "metadata": {},
     "output_type": "execute_result"
    }
   ],
   "source": [
    "top_N_heroes"
   ]
  },
  {
   "cell_type": "markdown",
   "metadata": {},
   "source": [
    "### Functionality 1 -  extract the graph's features\n"
   ]
  },
  {
   "cell_type": "code",
   "execution_count": 174,
   "metadata": {},
   "outputs": [],
   "source": [
    "def get_graph_features(graph,graph_type,top_N_heroes):\n",
    "    features = {}\n",
    "    n_nodes  = nx.number_of_nodes(graph)\n",
    "    features['number_of_nodes']  = n_nodes\n",
    "    density  = nx.density(graph)\n",
    "    features['density']  = density\n",
    "    degree_sequence = sorted((d for n,d in graph.degree()),reverse=True)\n",
    "    degrees =  np.array(degree_sequence)\n",
    "    percentile  = np.percentile(degrees,95)\n",
    "    if(graph_type==1):\n",
    "        collaborations  = { node : graph.degree(node)  for node in graph.nodes() if node in top_N_heroes}\n",
    "        features['collaborations']  = collaborations\n",
    "        features['hubs']  = [ node for node in graph.nodes() if graph.degree(node) > percentile and node in top_N_heroes]\n",
    "    else:\n",
    "       appearances=  {node  : graph.degree(node) for node in graph.nodes if graph.nodes[node]['type'] == 'comic' }\n",
    "       features['appearances']  = appearances\n",
    "       features['hubs']  = [ node for node in graph.nodes() if graph.degree(node) > percentile and graph.nodes[node]['type'] == 'comic']\n",
    "    features['degree_dist']  = degree_sequence\n",
    "    features['average_degree']  = round(sum(degree_sequence)/len(degree_sequence))\n",
    "    n  = len(graph.nodes())\n",
    "    if( (n*(n-1))/2 - len(graph.edges()) < ((n*n-1)/2)/1000):\n",
    "        is_dense = True\n",
    "    else:\n",
    "        is_dense  = False\n",
    "    features['is_dense']  = is_dense\n",
    "    return features"
   ]
  },
  {
   "cell_type": "code",
   "execution_count": 175,
   "metadata": {},
   "outputs": [],
   "source": [
    "G1_features  =get_graph_features(G1,1,top_N_heroes)"
   ]
  },
  {
   "cell_type": "code",
   "execution_count": 43,
   "metadata": {},
   "outputs": [],
   "source": [
    "G2_features  = get_graph_features(G2,2,top_N_heroes)"
   ]
  },
  {
   "cell_type": "markdown",
   "metadata": {},
   "source": [
    "### Functionality 2 - Find top superheroes!"
   ]
  },
  {
   "cell_type": "markdown",
   "metadata": {},
   "source": [
    "Centrality analysis is a set of techniques used to identify the most important nodes in a graph or network. A node is considered \"central\" if it has a high degree of connectivity, meaning it is connected to many other nodes in the network. There are several different measures of centrality that can be used, each of which looks at a different aspect of the node's connectivity and importance within the network.\n",
    "\n",
    "Some common measures of centrality include:\n",
    "\n",
    "Degree centrality: This measure looks at the number of connections a node has to other nodes in the network. Nodes with a high degree of centrality have many connections to other nodes, and are therefore considered central.\n",
    "\n",
    "Betweenness centrality: This measure looks at the number of shortest paths between two nodes that pass through a particular node. Nodes with a high betweenness centrality are considered important because they are \"bridges\" between other nodes in the network.\n",
    "\n",
    "Closeness centrality: This measure looks at the distance from a particular node to all other nodes in the network. Nodes with a high closeness centrality are considered central because they are close to many other nodes in the network.\n",
    "\n",
    "PageRank: this measure  identify the most important nodes based on the structure of the graph. It is based on the number and quality of the connections."
   ]
  },
  {
   "cell_type": "code",
   "execution_count": 38,
   "metadata": {},
   "outputs": [],
   "source": [
    "def subgraph(graph, N): \n",
    "    appearances = {node:graph.degree(node) for node in graph.nodes}\n",
    "    collab  = collections.Counter(appearances).most_common(N)\n",
    "    collab  ={x:v for x,v in collab}\n",
    "    top_N_heroes  = collab.keys()\n",
    "    sub_G = graph.subgraph(top_N_heroes)\n",
    "    return sub_G"
   ]
  },
  {
   "cell_type": "markdown",
   "metadata": {},
   "source": [
    "Let's build a function that has in input the graph (G1 or G2), a node, one of the four proposed metrics and the N number of top superheroes that we want to consider."
   ]
  },
  {
   "cell_type": "code",
   "execution_count": 159,
   "metadata": {},
   "outputs": [],
   "source": [
    "def centralities(graph, node, metrics, N):\n",
    "    \n",
    "    # First of all we create a dictionary and we save the type of metric and the node, after we inizialize a variable (tot)\n",
    "    #in zero and we create a subgraph given the graph in input and the N superheroes that we take in consideration.\n",
    "    measures = {}\n",
    "    measures[\"Metrics\"] = metrics\n",
    "    measures[\"Node\"] = node\n",
    "    tot = 0\n",
    "    top_graph = subgraph(graph, N)\n",
    "    \n",
    "    # If the node is in the subgraph we check the type of metrics that we need to use:\n",
    "    if node in top_graph.nodes():\n",
    "        \n",
    "        #Type: Betweeness\n",
    "        if metrics == \"Betweeness\":\n",
    "            # This function calculate the values\n",
    "            centrality = nx.betweenness_centrality(top_graph)\n",
    "            # We create a cicle to scroll the centrality in all the nodes\n",
    "            for nodes, centrality in centrality.items():\n",
    "                # we sum all the values to computer later the average\n",
    "                tot = tot + centrality\n",
    "                # If the node that we are iterating is the same of the one in input we save the value in our dictionary\n",
    "                if nodes == node:\n",
    "                    measures[\"Value\"] = centrality\n",
    "        \n",
    "        #Type: Degree Centrality\n",
    "        if metrics == \"DegreeCentrality\":\n",
    "            # This function calculate the values\n",
    "            degree_centrality = nx.degree_centrality(top_graph)\n",
    "            # We create a cicle to scroll the centrality in all the nodes\n",
    "            for nodes, centrality in degree_centrality.items():\n",
    "                # we sum all the values to computer later the average\n",
    "                tot = tot + centrality\n",
    "                # If the node that we are iterating is the same of the one in input we save the value in our dictionary\n",
    "                if nodes == node:\n",
    "                    measures[\"Value\"] = centrality\n",
    "                    \n",
    "        #Type: Closeness Centrality\n",
    "        if metrics == \"ClosenessCentrality\":\n",
    "            # This function calculate the values\n",
    "            centrality = nx.closeness_centrality(top_graph)\n",
    "            # We create a cicle to scroll the centrality in all the nodes\n",
    "            for nodes, centrality in centrality.items():\n",
    "                # we sum all the values to computer later the average\n",
    "                tot = tot + centrality\n",
    "                # If the node that we are iterating is the same of the one in input we save the value in our dictionary\n",
    "                if nodes == node:\n",
    "                    measures[\"Value\"] = centrality\n",
    "                    \n",
    "        #Type: PageRank\n",
    "        if metrics == \"PageRank\":\n",
    "            # This function calculate the values\n",
    "            pagerank = nx.pagerank(top_graph)\n",
    "            # We create a cicle to scroll the centrality in all the nodes\n",
    "            for nodes, rank in pagerank.items():\n",
    "                # we sum all the values to computer later the average\n",
    "                tot = tot + rank\n",
    "                # If the node that we are iterating is the same of the one in input we save the value in our dictionary\n",
    "                if nodes == node:\n",
    "                    measures[\"Value\"] = rank\n",
    "        \n",
    "        # Let's compute the average in the network the metric that we considered and let's add it in the dictionary\n",
    "        average = tot/len(top_graph)\n",
    "        measures[\"Average\"] = average\n",
    "        # We had no mistake in the input so we print \"No error\"\n",
    "        measures[\"Error\"] = \"No. There is no error\"\n",
    "    \n",
    "    #If the node is note in the subgraph we print the Error and zero for the values.\n",
    "    else:\n",
    "        measures[\"Error\"] = \"Yes. The node is not in the top N node graph, no value and average calculable\"\n",
    "        measures[\"Value\"] = int(0)\n",
    "        measures[\"Average\"] = int(0)\n",
    "            \n",
    "    return measures"
   ]
  },
  {
   "cell_type": "code",
   "execution_count": 160,
   "metadata": {},
   "outputs": [],
   "source": [
    "centrality = centralities(G1,'HULK/DR. ROBERT BRUC',\"PageRank\",100)"
   ]
  },
  {
   "cell_type": "code",
   "execution_count": 161,
   "metadata": {},
   "outputs": [
    {
     "data": {
      "text/plain": [
       "{'Metrics': 'PageRank',\n",
       " 'Node': 'HULK/DR. ROBERT BRUC',\n",
       " 'Value': 0.006328140173520915,\n",
       " 'Average': 0.009999999999999998,\n",
       " 'Error': 'No. There is no error'}"
      ]
     },
     "execution_count": 161,
     "metadata": {},
     "output_type": "execute_result"
    }
   ],
   "source": [
    "centrality"
   ]
  },
  {
   "cell_type": "code",
   "execution_count": 162,
   "metadata": {},
   "outputs": [],
   "source": [
    "centrality_G2 = centralities(G2,\"2001 10\",\"DegreeCentrality\",100)"
   ]
  },
  {
   "cell_type": "code",
   "execution_count": 163,
   "metadata": {},
   "outputs": [
    {
     "data": {
      "text/plain": [
       "{'Metrics': 'DegreeCentrality',\n",
       " 'Node': '2001 10',\n",
       " 'Error': 'Yes. The node is not in the top N node graph, no value ad average calculable',\n",
       " 'Value': 0,\n",
       " 'Average': 0}"
      ]
     },
     "execution_count": 163,
     "metadata": {},
     "output_type": "execute_result"
    }
   ],
   "source": [
    "centrality_G2"
   ]
  },
  {
   "cell_type": "markdown",
   "metadata": {},
   "source": [
    "### Functionality 3 - Shortest ordered Route"
   ]
  },
  {
   "cell_type": "markdown",
   "metadata": {},
   "source": [
    "Let's build a function that has in input the graph (Attention this function work only with the graph type == G2), the heroes, the first hero of the sequence, the last hero of the sequence and the N heroes that we want to consider. "
   ]
  },
  {
   "cell_type": "code",
   "execution_count": 320,
   "metadata": {},
   "outputs": [],
   "source": [
    "def shortest_ordered_route(graph, heroes, first_hero, last_hero, N):\n",
    "    \n",
    "    # Let's add at the beginning of the sequence the first hero and the end of the sequence the last hero. After we inizialize\n",
    "    # a list and a dictionary.\n",
    "    heroes.append(last_hero)\n",
    "    heroes.insert(0, first_hero)\n",
    "    route = []\n",
    "    short_route = {}\n",
    "    \n",
    "    # Let's do a for cicle in the heroes sequences\n",
    "    for h in range(len(heroes)-1):\n",
    "\n",
    "        # We compute the shortest path between the hero h and the hero h+1\n",
    "        try:\n",
    "            path = nx.shortest_path(graph, heroes[h], heroes[h+1])\n",
    "        \n",
    "        # If there is no path because the graph is not connected we add in the dictionary and return the advise\n",
    "        #\"There is no such path\".\n",
    "        except:\n",
    "            attention = \"There is no such path\"\n",
    "            short_route[\"Attention\"] = attention\n",
    "            return short_route\n",
    "        \n",
    "        # If all the nodes are connect we create a for cicle in \"path\" that contains all the sequence in order with the heroes\n",
    "        # and the comics\n",
    "        for i in path:\n",
    "            # If i is not in heroes and so it is a comic we append it in the list route\n",
    "            if i not in heroes:\n",
    "                route.append(i)\n",
    "    \n",
    "    # let's add all the sequence of the comics in a dictionary and let's create a graph adding the heroes and comics nodes.\n",
    "    short_route[\"Comics in order\"] = route\n",
    "    my_graph = nx.Graph()\n",
    "    my_graph.add_nodes_from(heroes)\n",
    "    my_graph.add_nodes_from(route)\n",
    "        \n",
    "    # Let's do a for cicle, in this way we create edges between the comics and the previous and next heroes that follow\n",
    "    # each other in the graph.\n",
    "    for i in range(len(route)):\n",
    "        my_graph.add_edge(heroes[i], route[i])\n",
    "        my_graph.add_edge(heroes[i+1], route[i])\n",
    "    \n",
    "    # We color the nodes in green if they are superheroes and in orange if they are comics\n",
    "    colors = {node: 'green' if node in heroes else 'orange' for node in my_graph.nodes}\n",
    "    node_colors = [colors[node] for node in my_graph.nodes]\n",
    "    \n",
    "    # we save in box all the comics in order, the graph and the colors.\n",
    "    box = [short_route, my_graph, node_colors]\n",
    "    return box"
   ]
  },
  {
   "cell_type": "code",
   "execution_count": 321,
   "metadata": {},
   "outputs": [],
   "source": [
    "short_routes = shortest_ordered_route(G2, [ \"SPIDER-MAN/PETER PARKER\",'HAWK',\"IRON MAN/TONY STARK\",'DR. STRANGE/STEPHEN',\"CAPTAIN AMERICA\"], 'HULK/DR. ROBERT BRUC', \"THOR/DR. DONALD BLAK\", 50)"
   ]
  },
  {
   "cell_type": "code",
   "execution_count": 322,
   "metadata": {},
   "outputs": [
    {
     "data": {
      "text/plain": [
       "[{'Comics in order': ['A 118', 'A 118', \"A '00\", 'A 115', 'A 115', 'A 1']},\n",
       " <networkx.classes.graph.Graph at 0x1a23a4b42e0>,\n",
       " ['green',\n",
       "  'green',\n",
       "  'green',\n",
       "  'green',\n",
       "  'green',\n",
       "  'green',\n",
       "  'green',\n",
       "  'orange',\n",
       "  'orange',\n",
       "  'orange',\n",
       "  'orange']]"
      ]
     },
     "execution_count": 322,
     "metadata": {},
     "output_type": "execute_result"
    }
   ],
   "source": [
    "short_routes"
   ]
  },
  {
   "cell_type": "code",
   "execution_count": 244,
   "metadata": {},
   "outputs": [
    {
     "data": {
      "text/plain": [
       "dict_keys(['SPIDER-MAN/PETER PARKER', 'CAPTAIN AMERICA', 'IRON MAN/TONY STARK', 'THING/BENJAMIN J. GR', 'THOR/DR. DONALD BLAK', 'HUMAN TORCH/JOHNNY S', 'MR. FANTASTIC/REED R', 'HULK/DR. ROBERT BRUC', 'WOLVERINE/LOGAN', 'INVISIBLE WOMAN/SUE', 'SCARLET WITCH/WANDA', 'BEAST/HENRY &HANK& P', 'DR. STRANGE/STEPHEN', 'WATSON-PARKER, MARY', 'DAREDEVIL/MATT MURDO', 'HAWK', 'VISION', 'CYCLOPS/SCOTT SUMMER', 'WASP/JANET VAN DYNE', 'JAMESON, J. JONAH'])"
      ]
     },
     "execution_count": 244,
     "metadata": {},
     "output_type": "execute_result"
    }
   ],
   "source": [
    "top_N_heroes"
   ]
  },
  {
   "cell_type": "markdown",
   "metadata": {},
   "source": [
    "## 3. Frontend Visualization"
   ]
  },
  {
   "cell_type": "markdown",
   "metadata": {},
   "source": [
    "### Visualization 1 - Visualize some features of the network"
   ]
  },
  {
   "cell_type": "code",
   "execution_count": 44,
   "metadata": {},
   "outputs": [],
   "source": [
    "def visualize_features(features,graph_type):\n",
    "    table  = '| Feature | Values |\\n'\n",
    "    table += '| ------- | ------- |\\n'\n",
    "    table += '| Number_of_nodes |'+ str(features['number_of_nodes'])+'|\\n'\n",
    "    table += '| Density |'+ str(round(float(features['density']),4))+'|\\n'\n",
    "    table += '| Average_degree |'+ str(features['average_degree'])+'|\\n'\n",
    "    table += '| Is_dense |'+ str(features['is_dense'])+'|\\n'\n",
    "    display(Markdown(table))\n",
    "    table = '| Hubs |\\n'\n",
    "    table += '|-----|\\n'\n",
    "    for node in features['hubs']:\n",
    "        table+='|'+str(node)+'|\\n'\n",
    "    display(Markdown(table))\n",
    "    if(graph_type==1):\n",
    "        collab  = {k:v for k,v in sorted(features['collaborations'].items(), key =  lambda item : item[1],reverse=True)}\n",
    "        plt.figure(figsize=(30, 6), dpi=80)\n",
    "        plt.title('Number of collaborations of each hero in descending order')\n",
    "        plt.bar(collab.keys(),collab.values())\n",
    "        plt.show()\n",
    "    else:\n",
    "        apps = {k:v for k,v in sorted(list(features['appearances'].items())[:50], key=lambda item:item[1],reverse=True)}\n",
    "        plt.figure(figsize=(30, 6), dpi=80)\n",
    "        plt.title('Number of heroes who appeared in each comic, sorted in descending order')\n",
    "        plt.bar(apps.keys(),apps.values())\n",
    "        plt.show()\n",
    "\n",
    "            "
   ]
  },
  {
   "cell_type": "code",
   "execution_count": 45,
   "metadata": {},
   "outputs": [
    {
     "data": {
      "text/markdown": [
       "| Feature | Values |\n",
       "| ------- | ------- |\n",
       "| Number_of_nodes |19091|\n",
       "| Density |0.0005|\n",
       "| Average_degree |10|\n",
       "| Is_dense |False|\n"
      ],
      "text/plain": [
       "<IPython.core.display.Markdown object>"
      ]
     },
     "metadata": {},
     "output_type": "display_data"
    },
    {
     "data": {
      "text/markdown": [
       "| Hubs |\n",
       "|-----|\n",
       "|A 10|\n",
       "|A 118|\n",
       "|A 12|\n",
       "|A 15|\n",
       "|A 16|\n",
       "|A 173|\n",
       "|A 188|\n",
       "|A 18|\n",
       "|A 19|\n",
       "|A 1|\n",
       "|A 21|\n",
       "|A 305|\n",
       "|A 310|\n",
       "|A3 10|\n",
       "|A3 11|\n",
       "|A3 1|\n",
       "|A 329|\n",
       "|A3 2|\n",
       "|A 332|\n",
       "|A3 32|\n",
       "|A 333|\n",
       "|A3 33|\n",
       "|A3 3|\n",
       "|A3 43|\n",
       "|A 345|\n",
       "|A3 4|\n",
       "|A 60|\n",
       "|A 8|\n",
       "|A '99|\n",
       "|AF 110|\n",
       "|AF 111|\n",
       "|AF2 12|\n",
       "|AF 61|\n",
       "|AF 88|\n",
       "|AF 90|\n",
       "|AF 98|\n",
       "|AR 1|\n",
       "|AR 2|\n",
       "|ASM 16|\n",
       "|ASM 18|\n",
       "|ASM 1|\n",
       "|ASM2 1|\n",
       "|ASM 280|\n",
       "|ASM 400|\n",
       "|A:T|\n",
       "|AUP 4|\n",
       "|AWC 82|\n",
       "|AWC 84|\n",
       "|CA 319|\n",
       "|CA 342|\n",
       "|CA 380|\n",
       "|CA 383|\n",
       "|CA 389|\n",
       "|CA 390|\n",
       "|CA 391|\n",
       "|CA 401|\n",
       "|COC 1|\n",
       "|COC 3|\n",
       "|DAMCON3 4|\n",
       "|DAZZ 21|\n",
       "|DD2 8|\n",
       "|DEF 112|\n",
       "|DEF 113|\n",
       "|DEF 114|\n",
       "|DEF 62|\n",
       "|DEF 63|\n",
       "|DEF 64|\n",
       "|E2 12|\n",
       "|FF 14|\n",
       "|FF 150|\n",
       "|FF 22|\n",
       "|FF 23|\n",
       "|FF 25|\n",
       "|FF3 23|\n",
       "|FF3 27|\n",
       "|FF 367|\n",
       "|FF 368|\n",
       "|FF 369|\n",
       "|FF3 6|\n",
       "|FF 370|\n",
       "|FF3 7|\n",
       "|FF 3|\n",
       "|FF 400/2|\n",
       "|FF 402|\n",
       "|FF 416|\n",
       "|FFU 10|\n",
       "|H2 277|\n",
       "|H2 278|\n",
       "|H2 279|\n",
       "|H2 434|\n",
       "|HFH 16|\n",
       "|HFH 8|\n",
       "|HR:R 4|\n",
       "|IG 2|\n",
       "|IG 3|\n",
       "|IG 4|\n",
       "|IG 5|\n",
       "|IG 6|\n",
       "|IM3 1|\n",
       "|IM '99|\n",
       "|INH3 4|\n",
       "|IW 1|\n",
       "|IW 2|\n",
       "|IW 3|\n",
       "|IW 4|\n",
       "|IW 5|\n",
       "|IW 6|\n",
       "|MARVELS 2|\n",
       "|MAXSEC 1|\n",
       "|MAXSEC 2|\n",
       "|MAXSEC 3|\n",
       "|M:DS 1|\n",
       "|M:DS 2|\n",
       "|M/GN 1|\n",
       "|MK3 41|\n",
       "|M/:LG 12|\n",
       "|M/SHSW 10|\n",
       "|M/SHSW 11|\n",
       "|M/SHSW 12|\n",
       "|M/SHSW 1|\n",
       "|M/SHSW 2|\n",
       "|M/SHSW 3|\n",
       "|M/SHSW 4|\n",
       "|M/SHSW 5|\n",
       "|M/SHSW 6|\n",
       "|M/SHSW 7|\n",
       "|M/SHSW 8|\n",
       "|M/SHSW 9|\n",
       "|M/TIO 7|\n",
       "|M/TIO 96|\n",
       "|M/TU 4|\n",
       "|MX '01|\n",
       "|MX 12|\n",
       "|MX 32|\n",
       "|NFV.S 2|\n",
       "|NM 2|\n",
       "|NM 46|\n",
       "|NM 51|\n",
       "|NM 7|\n",
       "|NM 86|\n",
       "|NM 87|\n",
       "|NW 1|\n",
       "|NW 27|\n",
       "|NW 9|\n",
       "|O:MU|\n",
       "|O:X|\n",
       "|PP 27|\n",
       "|Q 14|\n",
       "|Q 23|\n",
       "|Q 25|\n",
       "|Q 28|\n",
       "|Q 33|\n",
       "|Q 38|\n",
       "|Q 39|\n",
       "|QS 11|\n",
       "|QS 12|\n",
       "|QS 6|\n",
       "|ROM 65|\n",
       "|ROM 66|\n",
       "|S-M 23|\n",
       "|S-M 75|\n",
       "|ST 156|\n",
       "|SWII 1|\n",
       "|SWII 5|\n",
       "|SWII 7|\n",
       "|SWII 9|\n",
       "|T 291|\n",
       "|T 300|\n",
       "|T 301|\n",
       "|T 426|\n",
       "|T 427|\n",
       "|T 482|\n",
       "|TB 10|\n",
       "|TB 24|\n",
       "|TB 25|\n",
       "|TB 32|\n",
       "|TB 44|\n",
       "|TB 49|\n",
       "|TB 6|\n",
       "|TB 8|\n",
       "|TB '97|\n",
       "|TM/U 1|\n",
       "|UTSM '97|\n",
       "|UX 107|\n",
       "|UX 108|\n",
       "|UX 109|\n",
       "|UX 10|\n",
       "|UX 122|\n",
       "|UX 12|\n",
       "|UX 137|\n",
       "|UX 13|\n",
       "|UX 14|\n",
       "|UX 157|\n",
       "|UX 158|\n",
       "|UX 15|\n",
       "|UX 167|\n",
       "|UX 175|\n",
       "|UX 190|\n",
       "|UX 191|\n",
       "|UX 200|\n",
       "|UX 201|\n",
       "|UX 210|\n",
       "|UX 223|\n",
       "|UX 227|\n",
       "|UX 240|\n",
       "|UX 255|\n",
       "|UX 272|\n",
       "|UX 274|\n",
       "|UX 275|\n",
       "|UX 280|\n",
       "|UX 294|\n",
       "|UX 295|\n",
       "|UX 296|\n",
       "|UX 325|\n",
       "|UX 335|\n",
       "|UX 336|\n",
       "|UX 350|\n",
       "|UX 377|\n",
       "|UX 379|\n",
       "|UX 388|\n",
       "|UX 5|\n",
       "|UX 7|\n",
       "|UX 8|\n",
       "|UX 94|\n",
       "|UX 98|\n",
       "|UX 9|\n",
       "|WCA 1|\n",
       "|WIW 8|\n",
       "|WM2 13|\n",
       "|WM2 14|\n",
       "|WM2 15|\n",
       "|WOSM 50|\n",
       "|WOSM 77|\n",
       "|WOSM 78|\n",
       "|WOSM 8|\n",
       "|X 106|\n",
       "|X 14|\n",
       "|X 15|\n",
       "|X 1|\n",
       "|X 2|\n",
       "|X 3|\n",
       "|X 55|\n",
       "|X 5|\n",
       "|X 96|\n",
       "|XCAL 125|\n",
       "|XF 10|\n",
       "|XF 2|\n",
       "|XF 5|\n",
       "|XF 6|\n",
       "|XF 7|\n",
       "|XF 84|\n",
       "|XF 85|\n",
       "|XFOR 16|\n",
       "|XFOR 17|\n",
       "|X:MW 1|\n",
       "|X:PRIME|\n",
       "|XSOS 2|\n"
      ],
      "text/plain": [
       "<IPython.core.display.Markdown object>"
      ]
     },
     "metadata": {},
     "output_type": "display_data"
    },
    {
     "data": {
      "image/png": "[encoded data removed]",
      "text/plain": [
       "<Figure size 2400x480 with 1 Axes>"
      ]
     },
     "metadata": {
      "needs_background": "light"
     },
     "output_type": "display_data"
    }
   ],
   "source": [
    "visualize_features(G2_features,2)"
   ]
  },
  {
   "cell_type": "code",
   "execution_count": 46,
   "metadata": {},
   "outputs": [
    {
     "data": {
      "text/markdown": [
       "| Feature | Values |\n",
       "| ------- | ------- |\n",
       "| Number_of_nodes |6426|\n",
       "| Density |0.0081|\n",
       "| Average_degree |52|\n",
       "| Is_dense |False|\n"
      ],
      "text/plain": [
       "<IPython.core.display.Markdown object>"
      ]
     },
     "metadata": {},
     "output_type": "display_data"
    },
    {
     "data": {
      "text/markdown": [
       "| Hubs |\n",
       "|-----|\n",
       "|CAPTAIN AMERICA|\n",
       "|CYCLOPS/SCOTT SUMMER|\n",
       "|HAWK|\n",
       "|THING/BENJAMIN J. GR|\n",
       "|JAMESON, J. JONAH|\n",
       "|THOR/DR. DONALD BLAK|\n",
       "|DAREDEVIL/MATT MURDO|\n",
       "|BEAST/HENRY &HANK& P|\n",
       "|MR. FANTASTIC/REED R|\n",
       "|HULK/DR. ROBERT BRUC|\n",
       "|HUMAN TORCH/JOHNNY S|\n",
       "|SPIDER-MAN/PETER PARKER|\n"
      ],
      "text/plain": [
       "<IPython.core.display.Markdown object>"
      ]
     },
     "metadata": {},
     "output_type": "display_data"
    },
    {
     "data": {
      "image/png": "[encoded data removed]",
      "text/plain": [
       "<Figure size 2400x480 with 1 Axes>"
      ]
     },
     "metadata": {
      "needs_background": "light"
     },
     "output_type": "display_data"
    }
   ],
   "source": [
    "visualize_features(G1_features,1)"
   ]
  },
  {
   "cell_type": "markdown",
   "metadata": {},
   "source": [
    "### Visualization 2 - Visualize centrality measure"
   ]
  },
  {
   "cell_type": "code",
   "execution_count": 166,
   "metadata": {},
   "outputs": [],
   "source": [
    "def visualize_centralities(measures):\n",
    "    table  = '| What | Info |\\n'\n",
    "    table += '| ------- | ------- |\\n'\n",
    "    table += '| Metric |'+ str(measures[\"Metrics\"]) +'|\\n'\n",
    "    table += '| Node |'+ str(measures[\"Node\"])+'|\\n'\n",
    "    table += '| Value for the node|'+ str(round(measures[\"Value\"],4))+'|\\n'\n",
    "    table += \"| Value for the network's average |\"+ str(round(measures[\"Average\"], 4)) +'|\\n'\n",
    "    table += \"| Error |\"+ str(measures[\"Error\"]) +'|\\n'\n",
    "    display(Markdown(table))"
   ]
  },
  {
   "cell_type": "code",
   "execution_count": 167,
   "metadata": {},
   "outputs": [
    {
     "data": {
      "text/markdown": [
       "| What | Info |\n",
       "| ------- | ------- |\n",
       "| Metric |PageRank|\n",
       "| Node |HULK/DR. ROBERT BRUC|\n",
       "| Value for the node|0.0063|\n",
       "| Value for the network's average |0.01|\n",
       "| Error |No. There is no error|\n"
      ],
      "text/plain": [
       "<IPython.core.display.Markdown object>"
      ]
     },
     "metadata": {},
     "output_type": "display_data"
    }
   ],
   "source": [
    "visualize_centralities(centrality)"
   ]
  },
  {
   "cell_type": "markdown",
   "metadata": {},
   "source": [
    "### Visualization 3 - Visualize the shortest-ordered route"
   ]
  },
  {
   "cell_type": "code",
   "execution_count": 325,
   "metadata": {},
   "outputs": [],
   "source": [
    "def visualize_short_path(box):\n",
    "    print(box[0])\n",
    "    #Let's plot the graph\n",
    "    nx.draw(box[1], with_labels=True, node_color=box[2], font_size = 8)\n",
    "    plt.show()"
   ]
  },
  {
   "cell_type": "code",
   "execution_count": 326,
   "metadata": {},
   "outputs": [
    {
     "name": "stdout",
     "output_type": "stream",
     "text": [
      "{'Comics in order': ['A 118', 'A 118', \"A '00\", 'A 115', 'A 115', 'A 1']}\n"
     ]
    },
    {
     "data": {
      "image/png": "[encoded data removed]",
      "text/plain": [
       "<Figure size 432x288 with 1 Axes>"
      ]
     },
     "metadata": {},
     "output_type": "display_data"
    }
   ],
   "source": [
    "visualize_short_path(short_routes)"
   ]
  },
  {
   "cell_type": "code",
   "execution_count": null,
   "metadata": {},
   "outputs": [],
   "source": []
  }
 ],
 "metadata": {
  "kernelspec": {
   "display_name": "Python 3 (ipykernel)",
   "language": "python",
   "name": "python3"
  },
  "language_info": {
   "codemirror_mode": {
    "name": "ipython",
    "version": 3
   },
   "file_extension": ".py",
   "mimetype": "text/x-python",
   "name": "python",
   "nbconvert_exporter": "python",
   "pygments_lexer": "ipython3",
   "version": "3.9.12"
  },
  "vscode": {
   "interpreter": {
    "hash": "916dbcbb3f70747c44a77c7bcd40155683ae19c65e1c03b4aa3499c5328201f1"
   }
  }
 },
 "nbformat": 4,
 "nbformat_minor": 2
}
